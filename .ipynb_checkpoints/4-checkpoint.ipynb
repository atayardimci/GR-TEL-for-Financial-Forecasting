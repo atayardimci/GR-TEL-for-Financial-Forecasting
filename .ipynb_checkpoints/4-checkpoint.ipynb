{
 "cells": [
  {
   "cell_type": "code",
   "execution_count": 2,
   "metadata": {},
   "outputs": [],
   "source": [
    "# Import libraries\n",
    "import numpy as np\n",
    "import pandas as pd\n",
    "from datetime import datetime\n",
    "import copy\n",
    "\n",
    "import networkx as nx\n",
    "\n",
    "import matplotlib.pyplot as plt\n",
    "%matplotlib inline\n",
    "plt.style.use('ggplot')\n",
    "\n",
    "# Set paths\n",
    "fig_path = './figures/'\n",
    "data_path = './data/'"
   ]
  },
  {
   "cell_type": "markdown",
   "metadata": {},
   "source": [
    "------------------------------------\n",
    "**Get the companies**\n",
    "------------------------------------"
   ]
  },
  {
   "cell_type": "code",
   "execution_count": 3,
   "metadata": {},
   "outputs": [],
   "source": [
    "# Read data\n",
    "\n",
    "mydateparser = lambda x: datetime.strptime(x, \"%Y-%m-%d\")\n",
    "snp = pd.read_csv(data_path+\"snp_allstocks_2015_2019.csv\", index_col='Date', parse_dates=True, date_parser=mydateparser)\n",
    "info = pd.read_csv(data_path+'snp_info.csv', index_col=0)\n",
    "\n",
    "snp500 = pd.read_csv(data_path+\"snp_500_2015_2019.csv\", index_col='Date', parse_dates=True, date_parser=mydateparser)\n",
    "snp500 = snp500['Adj Close']\n",
    "\n",
    "# https://www.slickcharts.com/sp500\n",
    "# https://datahub.io/core/s-and-p-500-companies-financials\n",
    "detailed_info = pd.read_csv(data_path+'constituents-financials.csv', index_col=0)\n",
    "stocks_sorted = detailed_info.sort_values('Market Cap', ascending=False)['Sector']"
   ]
  },
  {
   "cell_type": "code",
   "execution_count": 4,
   "metadata": {},
   "outputs": [],
   "source": [
    "stocks_by_sector = {sector: [] for sector in info['GICS Sector'].unique()}\n",
    "\n",
    "for stock in stocks_sorted.index[:160]:\n",
    "    if stock in ['PCLN', 'TWX', 'AET', 'MON', 'PX', 'ESRX']:\n",
    "        continue\n",
    "    stock = 'BRK-B' if stock == 'BRK.B' else stock\n",
    "    \n",
    "    sector = info.set_index('Symbol').loc[stock]['GICS Sector']\n",
    "    stocks_by_sector[sector].append(stock)\n",
    "# stocks"
   ]
  },
  {
   "cell_type": "code",
   "execution_count": 5,
   "metadata": {},
   "outputs": [],
   "source": [
    "# Select top three stocks (by market cap) within each GICS Sector\n",
    "stocks = {}\n",
    "for sector in stocks_by_sector:\n",
    "    stocks[sector] = stocks_by_sector[sector][:3]"
   ]
  },
  {
   "cell_type": "code",
   "execution_count": 6,
   "metadata": {},
   "outputs": [
    {
     "data": {
      "text/plain": [
       "{'Communication Services': ['GOOGL', 'GOOG', 'FB'],\n",
       " 'Consumer Discretionary': ['AMZN', 'HD', 'MCD'],\n",
       " 'Financials': ['JPM', 'BAC', 'WFC'],\n",
       " 'Information Technology': ['AAPL', 'MSFT', 'V']}"
      ]
     },
     "execution_count": 6,
     "metadata": {},
     "output_type": "execute_result"
    }
   ],
   "source": [
    "# use a subset of stocks instead for easy understanding\n",
    "# order them alphabetically\n",
    "tmp = {}\n",
    "tmp['Communication Services'] = stocks['Communication Services']\n",
    "tmp['Consumer Discretionary'] = stocks['Consumer Discretionary']\n",
    "tmp['Financials'] = stocks['Financials']\n",
    "tmp['Information Technology'] = stocks['Information Technology']\n",
    "\n",
    "stocks = tmp\n",
    "stocks"
   ]
  },
  {
   "cell_type": "markdown",
   "metadata": {},
   "source": [
    "------------------------------------\n",
    "**Get the data**\n",
    "------------------------------------\n",
    "- Standardize individual asset names (e.g. asset_1)"
   ]
  },
  {
   "cell_type": "code",
   "execution_count": 7,
   "metadata": {},
   "outputs": [],
   "source": [
    "sector_col = []\n",
    "stock_col = []\n",
    "for sector in stocks:\n",
    "    for i, stock in enumerate(stocks[sector]):\n",
    "        stock_name = 'asset_' + str(i+1)\n",
    "        sector_col.append(sector)\n",
    "        stock_col.append(stock_name)\n",
    "\n",
    "df = pd.DataFrame(columns=[sector_col, stock_col], index=snp.index)\n",
    "df.columns.names = ['Sector', 'Asset']\n",
    "# df.head()"
   ]
  },
  {
   "cell_type": "code",
   "execution_count": 8,
   "metadata": {},
   "outputs": [
    {
     "data": {
      "text/html": [
       "<div>\n",
       "<style>\n",
       "    .dataframe thead tr:only-child th {\n",
       "        text-align: right;\n",
       "    }\n",
       "\n",
       "    .dataframe thead th {\n",
       "        text-align: left;\n",
       "    }\n",
       "\n",
       "    .dataframe tbody tr th {\n",
       "        vertical-align: top;\n",
       "    }\n",
       "</style>\n",
       "<table border=\"1\" class=\"dataframe\">\n",
       "  <thead>\n",
       "    <tr>\n",
       "      <th>Sector</th>\n",
       "      <th colspan=\"3\" halign=\"left\">Communication Services</th>\n",
       "      <th colspan=\"3\" halign=\"left\">Consumer Discretionary</th>\n",
       "      <th colspan=\"3\" halign=\"left\">Financials</th>\n",
       "      <th colspan=\"3\" halign=\"left\">Information Technology</th>\n",
       "    </tr>\n",
       "    <tr>\n",
       "      <th>Asset</th>\n",
       "      <th>asset_1</th>\n",
       "      <th>asset_2</th>\n",
       "      <th>asset_3</th>\n",
       "      <th>asset_1</th>\n",
       "      <th>asset_2</th>\n",
       "      <th>asset_3</th>\n",
       "      <th>asset_1</th>\n",
       "      <th>asset_2</th>\n",
       "      <th>asset_3</th>\n",
       "      <th>asset_1</th>\n",
       "      <th>asset_2</th>\n",
       "      <th>asset_3</th>\n",
       "    </tr>\n",
       "    <tr>\n",
       "      <th>Date</th>\n",
       "      <th></th>\n",
       "      <th></th>\n",
       "      <th></th>\n",
       "      <th></th>\n",
       "      <th></th>\n",
       "      <th></th>\n",
       "      <th></th>\n",
       "      <th></th>\n",
       "      <th></th>\n",
       "      <th></th>\n",
       "      <th></th>\n",
       "      <th></th>\n",
       "    </tr>\n",
       "  </thead>\n",
       "  <tbody>\n",
       "    <tr>\n",
       "      <th>2015-01-02</th>\n",
       "      <td>529.549988</td>\n",
       "      <td>521.937744</td>\n",
       "      <td>78.449997</td>\n",
       "      <td>308.519989</td>\n",
       "      <td>103.430000</td>\n",
       "      <td>93.260002</td>\n",
       "      <td>62.490002</td>\n",
       "      <td>17.900000</td>\n",
       "      <td>54.700001</td>\n",
       "      <td>109.330002</td>\n",
       "      <td>46.759998</td>\n",
       "      <td>66.254997</td>\n",
       "    </tr>\n",
       "    <tr>\n",
       "      <th>2015-01-05</th>\n",
       "      <td>519.460022</td>\n",
       "      <td>511.057617</td>\n",
       "      <td>77.190002</td>\n",
       "      <td>302.190002</td>\n",
       "      <td>101.260002</td>\n",
       "      <td>92.230003</td>\n",
       "      <td>60.549999</td>\n",
       "      <td>17.379999</td>\n",
       "      <td>53.200001</td>\n",
       "      <td>106.250000</td>\n",
       "      <td>46.330002</td>\n",
       "      <td>64.792503</td>\n",
       "    </tr>\n",
       "    <tr>\n",
       "      <th>2015-01-06</th>\n",
       "      <td>506.640015</td>\n",
       "      <td>499.212799</td>\n",
       "      <td>76.150002</td>\n",
       "      <td>295.290009</td>\n",
       "      <td>100.949997</td>\n",
       "      <td>92.400002</td>\n",
       "      <td>58.980000</td>\n",
       "      <td>16.860001</td>\n",
       "      <td>52.090000</td>\n",
       "      <td>106.260002</td>\n",
       "      <td>45.650002</td>\n",
       "      <td>64.375000</td>\n",
       "    </tr>\n",
       "    <tr>\n",
       "      <th>2015-01-07</th>\n",
       "      <td>505.149994</td>\n",
       "      <td>498.357513</td>\n",
       "      <td>76.150002</td>\n",
       "      <td>298.420013</td>\n",
       "      <td>104.410004</td>\n",
       "      <td>94.010002</td>\n",
       "      <td>59.070000</td>\n",
       "      <td>16.940001</td>\n",
       "      <td>52.400002</td>\n",
       "      <td>107.750000</td>\n",
       "      <td>46.230000</td>\n",
       "      <td>65.237503</td>\n",
       "    </tr>\n",
       "    <tr>\n",
       "      <th>2015-01-08</th>\n",
       "      <td>506.910004</td>\n",
       "      <td>499.928864</td>\n",
       "      <td>78.180000</td>\n",
       "      <td>300.459991</td>\n",
       "      <td>106.720001</td>\n",
       "      <td>94.360001</td>\n",
       "      <td>60.389999</td>\n",
       "      <td>17.290001</td>\n",
       "      <td>53.560001</td>\n",
       "      <td>111.889999</td>\n",
       "      <td>47.590000</td>\n",
       "      <td>66.112503</td>\n",
       "    </tr>\n",
       "  </tbody>\n",
       "</table>\n",
       "</div>"
      ],
      "text/plain": [
       "Sector     Communication Services                         \\\n",
       "Asset                     asset_1     asset_2    asset_3   \n",
       "Date                                                       \n",
       "2015-01-02             529.549988  521.937744  78.449997   \n",
       "2015-01-05             519.460022  511.057617  77.190002   \n",
       "2015-01-06             506.640015  499.212799  76.150002   \n",
       "2015-01-07             505.149994  498.357513  76.150002   \n",
       "2015-01-08             506.910004  499.928864  78.180000   \n",
       "\n",
       "Sector     Consumer Discretionary                        Financials  \\\n",
       "Asset                     asset_1     asset_2    asset_3    asset_1   \n",
       "Date                                                                  \n",
       "2015-01-02             308.519989  103.430000  93.260002  62.490002   \n",
       "2015-01-05             302.190002  101.260002  92.230003  60.549999   \n",
       "2015-01-06             295.290009  100.949997  92.400002  58.980000   \n",
       "2015-01-07             298.420013  104.410004  94.010002  59.070000   \n",
       "2015-01-08             300.459991  106.720001  94.360001  60.389999   \n",
       "\n",
       "Sector                           Information Technology                        \n",
       "Asset         asset_2    asset_3                asset_1    asset_2    asset_3  \n",
       "Date                                                                           \n",
       "2015-01-02  17.900000  54.700001             109.330002  46.759998  66.254997  \n",
       "2015-01-05  17.379999  53.200001             106.250000  46.330002  64.792503  \n",
       "2015-01-06  16.860001  52.090000             106.260002  45.650002  64.375000  \n",
       "2015-01-07  16.940001  52.400002             107.750000  46.230000  65.237503  \n",
       "2015-01-08  17.290001  53.560001             111.889999  47.590000  66.112503  "
      ]
     },
     "execution_count": 8,
     "metadata": {},
     "output_type": "execute_result"
    }
   ],
   "source": [
    "for sector in stocks:\n",
    "    for i, stock in enumerate(stocks[sector]):\n",
    "        stock_name = 'asset_' + str(i+1)\n",
    "        df.loc[:,(sector, stock_name)] = snp[stock]\n",
    "df.head()"
   ]
  },
  {
   "cell_type": "markdown",
   "metadata": {},
   "source": [
    "------------------------------------\n",
    "**Represent DataFrame as one column Multi-index data**\n",
    "------------------------------------"
   ]
  },
  {
   "cell_type": "code",
   "execution_count": 9,
   "metadata": {},
   "outputs": [
    {
     "data": {
      "text/plain": [
       "Date        Sector                  Asset  \n",
       "2015-01-02  Communication Services  asset_1    529.549988\n",
       "                                    asset_2    521.937744\n",
       "                                    asset_3     78.449997\n",
       "            Consumer Discretionary  asset_1    308.519989\n",
       "                                    asset_2    103.430000\n",
       "dtype: float64"
      ]
     },
     "execution_count": 9,
     "metadata": {},
     "output_type": "execute_result"
    }
   ],
   "source": [
    "df_tensor = df.stack([0, 1])\n",
    "df_tensor.head()"
   ]
  },
  {
   "cell_type": "code",
   "execution_count": 10,
   "metadata": {},
   "outputs": [],
   "source": [
    "# DON'T RUN -- for visualization and help\n",
    "# df_tensor.reorder_levels([1,2,0])[:30]\n",
    "# df_tensor.reorder_levels([1,2,0])['Information Technology']['asset_1']"
   ]
  },
  {
   "cell_type": "markdown",
   "metadata": {},
   "source": [
    "------------------------------------\n",
    "**Tensorize the data**\n",
    "------------------------------------"
   ]
  },
  {
   "cell_type": "code",
   "execution_count": 11,
   "metadata": {},
   "outputs": [],
   "source": [
    "# from hottbox.core import Tensor\n",
    "# from hottbox.pdtools import pd_to_tensor"
   ]
  },
  {
   "cell_type": "code",
   "execution_count": 12,
   "metadata": {},
   "outputs": [],
   "source": [
    "# tensor = pd_to_tensor(df_tensor)"
   ]
  },
  {
   "cell_type": "code",
   "execution_count": 13,
   "metadata": {},
   "outputs": [],
   "source": [
    "# tensor"
   ]
  },
  {
   "cell_type": "markdown",
   "metadata": {},
   "source": [
    "------------------------------------\n",
    "**Create training samples and labels, i.e. training data, $\\mathcal{D}$**\n",
    "------------------------------------\n",
    "Create the dataset with tensor samples and vector labels: \n",
    "- Samples are stock prices of each stock windowed at a particular window length up to the prediction date, $t$. Samples are represented as third order tensors, with modes being `['Sector', 'Asset', 'Date']`. The samples are of size (#Sectors, #Assets in each sector, Window length). \n",
    "- Labels are stock prices of each stock at the prediction date, $t$. They are represented as vectors."
   ]
  },
  {
   "cell_type": "code",
   "execution_count": 14,
   "metadata": {},
   "outputs": [],
   "source": [
    "from hottbox.core import Tensor\n",
    "from hottbox.pdtools import pd_to_tensor"
   ]
  },
  {
   "cell_type": "code",
   "execution_count": 15,
   "metadata": {},
   "outputs": [],
   "source": [
    "w = 22 # window length\n",
    "\n",
    "## Creating Samples\n",
    "X = []\n",
    "for i in range(w, len(snp.index)):\n",
    "    df_t = df.iloc[i-w:i]\n",
    "    df_t = df_t.stack([0, 1])\n",
    "    X_t = pd_to_tensor(df_t)\n",
    "    \n",
    "    X.append(X_t)"
   ]
  },
  {
   "cell_type": "code",
   "execution_count": 16,
   "metadata": {},
   "outputs": [
    {
     "name": "stdout",
     "output_type": "stream",
     "text": [
      "Dates are the same, we are good to go!\n"
     ]
    }
   ],
   "source": [
    "if sum(snp.index != snp500.index) == 0:\n",
    "    print('Dates are the same, we are good to go!')"
   ]
  },
  {
   "cell_type": "code",
   "execution_count": 17,
   "metadata": {},
   "outputs": [],
   "source": [
    "y = []\n",
    "\n",
    "## Labels are all assets' price movements\n",
    "for i in range(w, len(snp.index)):\n",
    "    price_old = np.array(df.iloc[i-1])\n",
    "    price_now = np.array(df.iloc[i])\n",
    "    diff = price_now - price_old\n",
    "    y_t = np.sign(np.sign(diff) + 1.)\n",
    "    \n",
    "    y.append(y_t)\n",
    "\n",
    "\n",
    "## Labels are the S&P 500 Index movements\n",
    "# for i in range(w, len(snp500.index)):\n",
    "#     price_old = snp500[i-1]\n",
    "#     price_now = snp500[i]\n",
    "#     diff = price_now - price_old\n",
    "#     y_t = str(np.sign(diff))\n",
    "    \n",
    "#     y.append(y_t)\n",
    "\n",
    "\n",
    "## Labels are the individual asset price movements\n",
    "# for i in range(w, len(snp.index)):\n",
    "#     price_old = np.array(df.iloc[i-1])\n",
    "#     price_now = np.array(df.iloc[i])\n",
    "#     diff = price_now - price_old\n",
    "#     y_t = np.sign(diff)\n",
    "    \n",
    "#     y.append(y_t[3])\n",
    "    \n",
    "    \n",
    "y = np.array(y)\n",
    "\n",
    "\n",
    "# y = y[:,3]"
   ]
  },
  {
   "cell_type": "markdown",
   "metadata": {},
   "source": [
    "------------------------------------\n",
    "**Tensor Ensemble Learning**\n",
    "------------------------------------"
   ]
  },
  {
   "cell_type": "code",
   "execution_count": 18,
   "metadata": {},
   "outputs": [],
   "source": [
    "from hottbox.core import Tensor, TensorTKD\n",
    "from hottbox.algorithms.decomposition import HOSVD, HOOI\n",
    "# from hottbox.utils.generation import residual_tensor\n",
    "from hottbox.algorithms.classification import TelVI\n",
    "\n",
    "from sklearn.model_selection import train_test_split\n",
    "from sklearn.svm import SVC"
   ]
  },
  {
   "cell_type": "code",
   "execution_count": 19,
   "metadata": {},
   "outputs": [],
   "source": [
    "# Helper function to display scores of multiclass classification\n",
    "def print_scores(scores):\n",
    "    result = []\n",
    "    for score in scores:\n",
    "        s = \"{:.2f}%\".format(score * 100)\n",
    "        result.append(s)\n",
    "        \n",
    "    print('[' + \", \".join(result) + ']')"
   ]
  },
  {
   "cell_type": "code",
   "execution_count": 20,
   "metadata": {},
   "outputs": [],
   "source": [
    "class GRTEL:\n",
    "    def __init__(self, base_clf, n_classes=1, probability=False, verbose=False):\n",
    "        self.probability = probability\n",
    "        self.verbose = verbose\n",
    "        self.n_classes = n_classes\n",
    "        self.base_clf = base_clf\n",
    "        \n",
    "        self.models = [TelVI(base_clf=self.base_clf, probability=self.probability, verbose=self.verbose) for _ in range(self.n_classes)]\n",
    "        \n",
    "        \n",
    "    def fit(self, X, y):\n",
    "        if n_classes == 1:\n",
    "            self.models[0].fit(X, y)\n",
    "        elif n_classes > 1:\n",
    "            for i in range(self.n_classes):\n",
    "                self.models[i].fit(X, y[:,i])\n",
    "        \n",
    "        \n",
    "    def score(self, X, y):\n",
    "        if n_classes == 1:\n",
    "            return self.models[0].score(X, y)\n",
    "        elif n_classes > 1:\n",
    "            scores = []\n",
    "            for i in range(self.n_classes):\n",
    "                scores.append(self.models[i].score(X, y[:, i]))\n",
    "            return scores\n",
    "    \n",
    "    \n",
    "    def grid_search(self, X, y, search_params):\n",
    "        if n_classes == 1:\n",
    "            self.models[0].grid_search(X, y, search_params)\n",
    "        elif n_classes > 1:\n",
    "            for i in range(self.n_classes):\n",
    "                self.models[i].grid_search(X, y[:,i], search_params)"
   ]
  },
  {
   "cell_type": "code",
   "execution_count": 21,
   "metadata": {},
   "outputs": [],
   "source": [
    "# Represent each sample in Tucker form and store it in a list\n",
    "algo = HOSVD()\n",
    "rank = (3,2,2)\n",
    "X_tk = [algo.decompose(sample, rank=rank) for sample in X]\n",
    "\n",
    "# Split into train and test set\n",
    "X_train, X_test, y_train, y_test = train_test_split(X_tk, y, test_size=0.33, random_state=42)\n",
    "\n",
    "# Initialise classifier\n",
    "R = np.sum(rank) # number of base classifiers required\n",
    "n_classes = 1 if y.ndim == 1 else y.shape[1]\n",
    "\n",
    "grtel = GRTEL(base_clf=[SVC(gamma='auto') for _ in range(R)],\n",
    "              n_classes=n_classes,\n",
    "              probability=True,\n",
    "              verbose=False)\n",
    "\n",
    "\n",
    "# Train classifer\n",
    "grtel.fit(X_train, y_train)"
   ]
  },
  {
   "cell_type": "code",
   "execution_count": 22,
   "metadata": {},
   "outputs": [
    {
     "name": "stdout",
     "output_type": "stream",
     "text": [
      "Classification accuracy (Train):\n",
      "[52.35%, 52.66%, 55.08%, 53.87%, 53.72%, 54.78%, 51.59%, 52.50%, 49.01%, 52.35%, 53.41%, 55.08%]\n",
      "\n",
      "Classification accuracy (Test):\n",
      "[54.15%, 53.23%, 50.77%, 58.46%, 51.08%, 53.85%, 50.15%, 51.38%, 49.85%, 50.15%, 54.46%, 56.00%]\n",
      "\n"
     ]
    }
   ],
   "source": [
    "score = grtel.score(X_train, y_train)\n",
    "score = score if n_classes > 1 else [score]\n",
    "print(\"Classification accuracy (Train):\")\n",
    "print_scores(score)\n",
    "print()\n",
    "\n",
    "score = grtel.score(X_test, y_test)\n",
    "score = score if n_classes > 1 else [score]\n",
    "print(\"Classification accuracy (Test):\")\n",
    "print_scores(score)\n",
    "print()"
   ]
  },
  {
   "cell_type": "code",
   "execution_count": 23,
   "metadata": {},
   "outputs": [
    {
     "name": "stdout",
     "output_type": "stream",
     "text": [
      "\n",
      "\tPerforming grid search for each base classifer\n",
      "\n",
      "\tTrain base classifiers with optimal hyperparameters\n"
     ]
    }
   ],
   "source": [
    "search_params = [dict(gamma=[0.001, 0.01, 1, 10], C=[0.1, 1, 10, 100]) for _ in range(R)]\n",
    "\n",
    "print(\"\\n\\tPerforming grid search for each base classifer\")\n",
    "grtel.grid_search(X_train, y_train, search_params)\n",
    "\n",
    "print(\"\\n\\tTrain base classifiers with optimal hyperparameters\")\n",
    "grtel.fit(X_train, y_train)"
   ]
  },
  {
   "cell_type": "code",
   "execution_count": 24,
   "metadata": {},
   "outputs": [
    {
     "name": "stdout",
     "output_type": "stream",
     "text": [
      "Classification accuracy (Train):\n",
      "[52.35%, 52.66%, 55.08%, 53.87%, 53.72%, 54.78%, 51.59%, 52.50%, 49.01%, 52.35%, 53.41%, 55.08%]\n",
      "\n",
      "Classification accuracy (Test):\n",
      "[54.15%, 53.23%, 50.77%, 58.46%, 51.08%, 53.85%, 50.15%, 51.38%, 49.85%, 50.15%, 54.46%, 56.00%]\n",
      "\n"
     ]
    }
   ],
   "source": [
    "score = grtel.score(X_train, y_train)\n",
    "score = score if n_classes > 1 else [score]\n",
    "print(\"Classification accuracy (Train):\")\n",
    "print_scores(score)\n",
    "print()\n",
    "\n",
    "score = grtel.score(X_test, y_test)\n",
    "score = score if n_classes > 1 else [score]\n",
    "print(\"Classification accuracy (Test):\")\n",
    "print_scores(score)\n",
    "print()"
   ]
  },
  {
   "cell_type": "code",
   "execution_count": null,
   "metadata": {},
   "outputs": [],
   "source": []
  }
 ],
 "metadata": {
  "kernelspec": {
   "display_name": "Python 3",
   "language": "python",
   "name": "python3"
  },
  "language_info": {
   "codemirror_mode": {
    "name": "ipython",
    "version": 3
   },
   "file_extension": ".py",
   "mimetype": "text/x-python",
   "name": "python",
   "nbconvert_exporter": "python",
   "pygments_lexer": "ipython3",
   "version": "3.6.13"
  }
 },
 "nbformat": 4,
 "nbformat_minor": 4
}
