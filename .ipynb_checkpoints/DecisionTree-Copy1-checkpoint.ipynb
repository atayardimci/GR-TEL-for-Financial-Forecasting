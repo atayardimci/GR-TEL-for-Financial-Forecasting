{
 "cells": [
  {
   "cell_type": "code",
   "execution_count": 88,
   "metadata": {},
   "outputs": [],
   "source": [
    "# Import libraries\n",
    "import numpy as np\n",
    "import pandas as pd\n",
    "from datetime import datetime\n",
    "import copy\n",
    "\n",
    "import networkx as nx\n",
    "\n",
    "import matplotlib.pyplot as plt\n",
    "%matplotlib inline\n",
    "plt.style.use('ggplot')\n",
    "\n",
    "# Set paths\n",
    "fig_path = './figures/'\n",
    "data_path = './data/'"
   ]
  },
  {
   "cell_type": "code",
   "execution_count": 89,
   "metadata": {},
   "outputs": [],
   "source": [
    "from sklearn.model_selection import train_test_split\n",
    "from sklearn.tree import DecisionTreeClassifier"
   ]
  },
  {
   "cell_type": "markdown",
   "metadata": {},
   "source": [
    "------------------------------------\n",
    "**Get the companies**\n",
    "------------------------------------"
   ]
  },
  {
   "cell_type": "code",
   "execution_count": 90,
   "metadata": {},
   "outputs": [
    {
     "data": {
      "text/html": [
       "<div>\n",
       "<style>\n",
       "    .dataframe thead tr:only-child th {\n",
       "        text-align: right;\n",
       "    }\n",
       "\n",
       "    .dataframe thead th {\n",
       "        text-align: left;\n",
       "    }\n",
       "\n",
       "    .dataframe tbody tr th {\n",
       "        vertical-align: top;\n",
       "    }\n",
       "</style>\n",
       "<table border=\"1\" class=\"dataframe\">\n",
       "  <thead>\n",
       "    <tr style=\"text-align: right;\">\n",
       "      <th></th>\n",
       "      <th>Open</th>\n",
       "      <th>High</th>\n",
       "      <th>Low</th>\n",
       "      <th>Close</th>\n",
       "      <th>Adj Close</th>\n",
       "      <th>Volume</th>\n",
       "    </tr>\n",
       "    <tr>\n",
       "      <th>Date</th>\n",
       "      <th></th>\n",
       "      <th></th>\n",
       "      <th></th>\n",
       "      <th></th>\n",
       "      <th></th>\n",
       "      <th></th>\n",
       "    </tr>\n",
       "  </thead>\n",
       "  <tbody>\n",
       "    <tr>\n",
       "      <th>2018-03-16</th>\n",
       "      <td>178.649994</td>\n",
       "      <td>179.119995</td>\n",
       "      <td>177.619995</td>\n",
       "      <td>178.020004</td>\n",
       "      <td>175.349915</td>\n",
       "      <td>39404700</td>\n",
       "    </tr>\n",
       "    <tr>\n",
       "      <th>2018-03-19</th>\n",
       "      <td>177.320007</td>\n",
       "      <td>177.470001</td>\n",
       "      <td>173.660004</td>\n",
       "      <td>175.300003</td>\n",
       "      <td>172.670731</td>\n",
       "      <td>33446800</td>\n",
       "    </tr>\n",
       "    <tr>\n",
       "      <th>2018-03-20</th>\n",
       "      <td>175.240005</td>\n",
       "      <td>176.800003</td>\n",
       "      <td>174.940002</td>\n",
       "      <td>175.240005</td>\n",
       "      <td>172.611618</td>\n",
       "      <td>19649400</td>\n",
       "    </tr>\n",
       "    <tr>\n",
       "      <th>2018-03-21</th>\n",
       "      <td>175.039993</td>\n",
       "      <td>175.089996</td>\n",
       "      <td>171.259995</td>\n",
       "      <td>171.270004</td>\n",
       "      <td>168.701157</td>\n",
       "      <td>36338100</td>\n",
       "    </tr>\n",
       "    <tr>\n",
       "      <th>2018-03-22</th>\n",
       "      <td>170.000000</td>\n",
       "      <td>172.679993</td>\n",
       "      <td>168.600006</td>\n",
       "      <td>168.850006</td>\n",
       "      <td>166.317459</td>\n",
       "      <td>41490800</td>\n",
       "    </tr>\n",
       "  </tbody>\n",
       "</table>\n",
       "</div>"
      ],
      "text/plain": [
       "                  Open        High         Low       Close   Adj Close  \\\n",
       "Date                                                                     \n",
       "2018-03-16  178.649994  179.119995  177.619995  178.020004  175.349915   \n",
       "2018-03-19  177.320007  177.470001  173.660004  175.300003  172.670731   \n",
       "2018-03-20  175.240005  176.800003  174.940002  175.240005  172.611618   \n",
       "2018-03-21  175.039993  175.089996  171.259995  171.270004  168.701157   \n",
       "2018-03-22  170.000000  172.679993  168.600006  168.850006  166.317459   \n",
       "\n",
       "              Volume  \n",
       "Date                  \n",
       "2018-03-16  39404700  \n",
       "2018-03-19  33446800  \n",
       "2018-03-20  19649400  \n",
       "2018-03-21  36338100  \n",
       "2018-03-22  41490800  "
      ]
     },
     "execution_count": 90,
     "metadata": {},
     "output_type": "execute_result"
    }
   ],
   "source": [
    "# Read data\n",
    "\n",
    "mydateparser = lambda x: datetime.strptime(x, \"%Y-%m-%d\")\n",
    "df = pd.read_csv(data_path+\"AAPL.csv\", index_col='Date', parse_dates=True, date_parser=mydateparser)\n",
    "df.head()"
   ]
  },
  {
   "cell_type": "code",
   "execution_count": 91,
   "metadata": {},
   "outputs": [
    {
     "data": {
      "text/html": [
       "<div>\n",
       "<style>\n",
       "    .dataframe thead tr:only-child th {\n",
       "        text-align: right;\n",
       "    }\n",
       "\n",
       "    .dataframe thead th {\n",
       "        text-align: left;\n",
       "    }\n",
       "\n",
       "    .dataframe tbody tr th {\n",
       "        vertical-align: top;\n",
       "    }\n",
       "</style>\n",
       "<table border=\"1\" class=\"dataframe\">\n",
       "  <thead>\n",
       "    <tr style=\"text-align: right;\">\n",
       "      <th></th>\n",
       "      <th>Open</th>\n",
       "      <th>High</th>\n",
       "      <th>Low</th>\n",
       "      <th>Close</th>\n",
       "      <th>Adj Close</th>\n",
       "      <th>Volume</th>\n",
       "      <th>Price_Up</th>\n",
       "    </tr>\n",
       "    <tr>\n",
       "      <th>Date</th>\n",
       "      <th></th>\n",
       "      <th></th>\n",
       "      <th></th>\n",
       "      <th></th>\n",
       "      <th></th>\n",
       "      <th></th>\n",
       "      <th></th>\n",
       "    </tr>\n",
       "  </thead>\n",
       "  <tbody>\n",
       "    <tr>\n",
       "      <th>2018-03-16</th>\n",
       "      <td>178.649994</td>\n",
       "      <td>179.119995</td>\n",
       "      <td>177.619995</td>\n",
       "      <td>178.020004</td>\n",
       "      <td>175.349915</td>\n",
       "      <td>39404700</td>\n",
       "      <td>0</td>\n",
       "    </tr>\n",
       "    <tr>\n",
       "      <th>2018-03-19</th>\n",
       "      <td>177.320007</td>\n",
       "      <td>177.470001</td>\n",
       "      <td>173.660004</td>\n",
       "      <td>175.300003</td>\n",
       "      <td>172.670731</td>\n",
       "      <td>33446800</td>\n",
       "      <td>0</td>\n",
       "    </tr>\n",
       "    <tr>\n",
       "      <th>2018-03-20</th>\n",
       "      <td>175.240005</td>\n",
       "      <td>176.800003</td>\n",
       "      <td>174.940002</td>\n",
       "      <td>175.240005</td>\n",
       "      <td>172.611618</td>\n",
       "      <td>19649400</td>\n",
       "      <td>0</td>\n",
       "    </tr>\n",
       "    <tr>\n",
       "      <th>2018-03-21</th>\n",
       "      <td>175.039993</td>\n",
       "      <td>175.089996</td>\n",
       "      <td>171.259995</td>\n",
       "      <td>171.270004</td>\n",
       "      <td>168.701157</td>\n",
       "      <td>36338100</td>\n",
       "      <td>0</td>\n",
       "    </tr>\n",
       "    <tr>\n",
       "      <th>2018-03-22</th>\n",
       "      <td>170.000000</td>\n",
       "      <td>172.679993</td>\n",
       "      <td>168.600006</td>\n",
       "      <td>168.850006</td>\n",
       "      <td>166.317459</td>\n",
       "      <td>41490800</td>\n",
       "      <td>0</td>\n",
       "    </tr>\n",
       "  </tbody>\n",
       "</table>\n",
       "</div>"
      ],
      "text/plain": [
       "                  Open        High         Low       Close   Adj Close  \\\n",
       "Date                                                                     \n",
       "2018-03-16  178.649994  179.119995  177.619995  178.020004  175.349915   \n",
       "2018-03-19  177.320007  177.470001  173.660004  175.300003  172.670731   \n",
       "2018-03-20  175.240005  176.800003  174.940002  175.240005  172.611618   \n",
       "2018-03-21  175.039993  175.089996  171.259995  171.270004  168.701157   \n",
       "2018-03-22  170.000000  172.679993  168.600006  168.850006  166.317459   \n",
       "\n",
       "              Volume  Price_Up  \n",
       "Date                            \n",
       "2018-03-16  39404700         0  \n",
       "2018-03-19  33446800         0  \n",
       "2018-03-20  19649400         0  \n",
       "2018-03-21  36338100         0  \n",
       "2018-03-22  41490800         0  "
      ]
     },
     "execution_count": 91,
     "metadata": {},
     "output_type": "execute_result"
    }
   ],
   "source": [
    "df['Price_Up'] = np.where(df['Close'].shift(-1) > df['Close'], 1, 0)\n",
    "df.head()"
   ]
  },
  {
   "cell_type": "code",
   "execution_count": 92,
   "metadata": {},
   "outputs": [],
   "source": [
    "X = df.iloc[:,:df.shape[1]-1].values\n",
    "Y = df.iloc[:,df.shape[1]-1].values\n"
   ]
  },
  {
   "cell_type": "code",
   "execution_count": 93,
   "metadata": {},
   "outputs": [],
   "source": [
    "# X_train, X_test, Y_train, Y_test = train_test_split(X, Y, test_size=0.2)\n",
    "\n",
    "test_size = 0.2\n",
    "k = int(len(X) * (1. - test_size))\n",
    "\n",
    "X_train, X_test = X[:k], X[k:]\n",
    "Y_train, Y_test = Y[:k], Y[k:]\n"
   ]
  },
  {
   "cell_type": "code",
   "execution_count": 94,
   "metadata": {},
   "outputs": [
    {
     "name": "stdout",
     "output_type": "stream",
     "text": [
      "0.6470588235294118\n"
     ]
    }
   ],
   "source": [
    "tree = DecisionTreeClassifier().fit(X_train, Y_train)\n",
    "\n",
    "print(tree.score(X_test, Y_test))"
   ]
  },
  {
   "cell_type": "code",
   "execution_count": 95,
   "metadata": {},
   "outputs": [
    {
     "name": "stdout",
     "output_type": "stream",
     "text": [
      "[1 0 0 1 1 1 1 1 1 1 1 1 1 1 1 1 1 1 1 0 1 1 0 0 0 0 1 1 1 1 1 1 1 0 1 1 1\n",
      " 1 0 0 1 0 0 1 1 1 1 1 0 0 0]\n"
     ]
    }
   ],
   "source": [
    "tree_predictions = tree.predict(X_test)\n",
    "print(tree_predictions)"
   ]
  },
  {
   "cell_type": "code",
   "execution_count": 96,
   "metadata": {},
   "outputs": [
    {
     "name": "stdout",
     "output_type": "stream",
     "text": [
      "[0 1 0 1 1 1 0 0 1 1 1 1 0 1 0 1 0 0 1 1 1 1 1 1 0 0 0 1 0 1 0 1 1 0 1 1 1\n",
      " 1 0 1 1 0 0 0 1 1 1 1 1 1 0]\n"
     ]
    }
   ],
   "source": [
    "print(Y_test)"
   ]
  },
  {
   "cell_type": "code",
   "execution_count": null,
   "metadata": {},
   "outputs": [],
   "source": []
  }
 ],
 "metadata": {
  "kernelspec": {
   "display_name": "Python 3",
   "language": "python",
   "name": "python3"
  },
  "language_info": {
   "codemirror_mode": {
    "name": "ipython",
    "version": 3
   },
   "file_extension": ".py",
   "mimetype": "text/x-python",
   "name": "python",
   "nbconvert_exporter": "python",
   "pygments_lexer": "ipython3",
   "version": "3.6.13"
  }
 },
 "nbformat": 4,
 "nbformat_minor": 4
}
