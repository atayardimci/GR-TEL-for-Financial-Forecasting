{
 "cells": [
  {
   "cell_type": "code",
   "execution_count": 1,
   "metadata": {},
   "outputs": [],
   "source": [
    "# Import libraries\n",
    "import numpy as np\n",
    "import pandas as pd\n",
    "from datetime import datetime\n",
    "import copy\n",
    "\n",
    "import networkx as nx\n",
    "\n",
    "import matplotlib.pyplot as plt\n",
    "%matplotlib inline\n",
    "plt.style.use('ggplot')\n",
    "\n",
    "# Set paths\n",
    "fig_path = './figures/'\n",
    "data_path = './data/'\n",
    "yf_path = './data/yf_data/'"
   ]
  },
  {
   "cell_type": "markdown",
   "metadata": {},
   "source": [
    "------------------------------------\n",
    "**Get the companies**\n",
    "------------------------------------\n",
    "\n",
    "Choose 4 sectors (`Communication Services, Consumer Discretionary, Financials, Information Technology`) and select the 3 companies with largest mcaps within each sector. Chosen assets for analysis is shown below."
   ]
  },
  {
   "cell_type": "code",
   "execution_count": 2,
   "metadata": {},
   "outputs": [],
   "source": [
    "# Read data\n",
    "mydateparser = lambda x: datetime.strptime(x, \"%Y-%m-%d\")\n",
    "snp = pd.read_csv(data_path+\"snp_allstocks_2015_2019.csv\", index_col='Date', parse_dates=True, date_parser=mydateparser)\n",
    "info = pd.read_csv(data_path+'snp_info.csv', index_col=0)\n",
    "\n",
    "\n",
    "# https://www.slickcharts.com/sp500\n",
    "# https://datahub.io/core/s-and-p-500-companies-financials\n",
    "detailed_info = pd.read_csv(data_path+'constituents-financials.csv', index_col=0)\n",
    "stocks_sorted = detailed_info.sort_values('Market Cap', ascending=False)['Sector']"
   ]
  },
  {
   "cell_type": "code",
   "execution_count": 3,
   "metadata": {},
   "outputs": [],
   "source": [
    "stocks_by_sector = {sector: [] for sector in info['GICS Sector'].unique()}\n",
    "\n",
    "for stock in stocks_sorted.index[:160]:\n",
    "    if stock in ['PCLN', 'TWX', 'AET', 'MON', 'PX', 'ESRX']:\n",
    "        continue\n",
    "    stock = 'BRK-B' if stock == 'BRK.B' else stock\n",
    "    \n",
    "    sector = info.set_index('Symbol').loc[stock]['GICS Sector']\n",
    "    stocks_by_sector[sector].append(stock)\n",
    "# stocks"
   ]
  },
  {
   "cell_type": "code",
   "execution_count": 4,
   "metadata": {},
   "outputs": [
    {
     "data": {
      "text/plain": [
       "{'Communication Services': ['GOOGL', 'GOOG', 'FB'],\n",
       " 'Consumer Discretionary': ['AMZN', 'HD', 'MCD'],\n",
       " 'Financials': ['JPM', 'BAC', 'WFC'],\n",
       " 'Information Technology': ['AAPL', 'MSFT', 'V']}"
      ]
     },
     "execution_count": 4,
     "metadata": {},
     "output_type": "execute_result"
    }
   ],
   "source": [
    "# Select top three stocks (by market cap) within each GICS Sector\n",
    "stocks = {}\n",
    "for sector in stocks_by_sector:\n",
    "    stocks[sector] = stocks_by_sector[sector][:3]\n",
    "\n",
    "# use a subset of stocks instead for easy understanding\n",
    "# order sectors alphabetically\n",
    "tmp = {}\n",
    "tmp['Communication Services'] = stocks['Communication Services']\n",
    "tmp['Consumer Discretionary'] = stocks['Consumer Discretionary']\n",
    "tmp['Financials'] = stocks['Financials']\n",
    "tmp['Information Technology'] = stocks['Information Technology']\n",
    "\n",
    "stocks = tmp\n",
    "stocks"
   ]
  },
  {
   "cell_type": "markdown",
   "metadata": {},
   "source": [
    "------------------------------------\n",
    "**Get the data and the indicators**\n",
    "------------------------------------\n",
    "We collect the stock data from yfinance for between dates `'2015-01-02'-'2019-01-01'` (4 years) and calculate certain indicators helpful for analysis, which are:\n",
    "- Relative Strength Index (RSI)\n",
    "- Stochastic Oscillator\n",
    "- Williams %R\n",
    "- Moving Average Convergence Divergnece (MACD)\n",
    "- Price Rate Of Change\n",
    "- On Balance Volume\n",
    "\n",
    "After calculating these indicators for each day, we add them to the dataframe of the stock as new columns. We select the columns `['Close', 'RSI', 'k_percent', 'r_percent', 'MACD', 'MACD_EMA9', 'Price Rate Of Change', 'On Balance Volume']` at the end to obtain a new dataframe representing the stock.\n",
    "\n",
    "We do this for each of the stocks we have selected and concatenate the individual dataframes to obtain a a resulting dataframe of shape `(T, NxM)`, where `T` is the number of time steps, `N` the number of assets, `M` the number of indicators for each asset.\n",
    "\n",
    "We also standardize the names of individual assets (e.g. `asset_1`) for tensorization."
   ]
  },
  {
   "cell_type": "code",
   "execution_count": 5,
   "metadata": {},
   "outputs": [],
   "source": [
    "# Calculate n-day RSI\n",
    "def get_RSI(data, n=14):\n",
    "    # First make a copy of the data frame twice\n",
    "    up_df, down_df = data['change_in_price'].copy(), data['change_in_price'].copy()\n",
    "    \n",
    "    # For up days, if the change is less than 0 set to 0.\n",
    "    up_df[up_df < 0] = 0\n",
    "    # For down days, if the change is greater than 0 set to 0.\n",
    "    down_df[down_df > 0] = 0\n",
    "    # We need change_in_price to be absolute.\n",
    "    down_df = down_df.abs()\n",
    "    \n",
    "    # Calculate the EWMA (Exponential Weighted Moving Average)\n",
    "    ewma_up = up_df.ewm(span=n).mean()\n",
    "    ewma_down = down_df.ewm(span=n).mean()\n",
    "    \n",
    "    # Calculate the Relative Strength\n",
    "    relative_strength = ewma_up / ewma_down\n",
    "\n",
    "    # Calculate the Relative Strength Index\n",
    "    relative_strength_index = 100.0 - (100.0 / (1.0 + relative_strength))\n",
    "    \n",
    "    return relative_strength_index\n",
    "\n",
    "\n",
    "\n",
    "# Calculate the n-day Stochastic Oscillator\n",
    "def get_Stochastic_Oscillator(data, n=14):\n",
    "    # Make a copy of the high and low column.\n",
    "    low, high = data['Low'].copy(), data['High'].copy()\n",
    "    \n",
    "    # Calculate rolling min and max.\n",
    "    low = low.rolling(window=n).min()\n",
    "    high = high.rolling(window=n).max()\n",
    "    \n",
    "    # Calculate the Stochastic Oscillator.\n",
    "    k_percent = 100 * ((data['Close'] - low) / (high - low))\n",
    "    \n",
    "    return k_percent\n",
    "\n",
    "\n",
    "\n",
    "# Calculate the Williams %R\n",
    "def get_Williams(data, n=14):\n",
    "    # Make a copy of the high and low column.\n",
    "    low, high = data['Low'].copy(), data['High'].copy()\n",
    "    \n",
    "    # Calculate rolling min and max.\n",
    "    low = low.rolling(window=n).min()\n",
    "    high = high.rolling(window=n).max()\n",
    "    \n",
    "    # Calculate William %R indicator.\n",
    "    r_percent = ((high - data['Close']) / (high - low)) * -100\n",
    "    \n",
    "    return r_percent\n",
    "\n",
    "\n",
    "\n",
    "# Calculate the MACD\n",
    "def get_MACD(data):\n",
    "    ema_26 = data['Close'].ewm(span=26).mean()\n",
    "    ema_12 = data['Close'].ewm(span=12).mean()\n",
    "\n",
    "    macd = ema_12 - ema_26\n",
    "\n",
    "    # Calculate the EMA of MACD\n",
    "    ema_9_macd = macd.ewm(span=9).mean()\n",
    "    \n",
    "    return macd, ema_9_macd\n",
    "    \n",
    "\n",
    "    \n",
    "# Calculate On Balance Volume\n",
    "def get_OBV(data):\n",
    "    volumes = data['Volume']\n",
    "    changes = data['change_in_price']\n",
    "\n",
    "    prev_obv = 0\n",
    "    obv_values = []\n",
    "    for change, volume in zip(changes, volumes):\n",
    "        if change > 0:\n",
    "            current_obv = prev_obv + volume\n",
    "        elif change < 0:\n",
    "            current_obv = prev_obv - volume\n",
    "        else:\n",
    "            current_obv = prev_obv\n",
    "\n",
    "        obv_values.append(current_obv)\n",
    "        prev_obv = current_obv\n",
    "\n",
    "    return pd.Series(obv_values, index=data.index)    "
   ]
  },
  {
   "cell_type": "code",
   "execution_count": 6,
   "metadata": {},
   "outputs": [],
   "source": [
    "samples = []\n",
    "labels = []\n",
    "for sector in stocks:\n",
    "    for i, stock in enumerate(stocks[sector]):\n",
    "        \n",
    "        stock_name = 'asset_' + str(i+1)\n",
    "        \n",
    "        # get the original data\n",
    "        data = pd.read_csv(yf_path+stock+\".csv\", index_col='Date', parse_dates=True, date_parser=mydateparser)\n",
    "\n",
    "        # calculate change in price\n",
    "        data['change_in_price'] = data['Close'].diff()\n",
    "\n",
    "        # calculate indicators\n",
    "        data['RSI'] = get_RSI(data)\n",
    "        data['k_percent'] = get_Stochastic_Oscillator(data)\n",
    "        data['r_percent'] = get_Williams(data)\n",
    "\n",
    "        # Calculate the MACD\n",
    "        macd, ema_9_macd = get_MACD(data)\n",
    "        data['MACD'] = macd\n",
    "        data['MACD_EMA9'] = ema_9_macd\n",
    "\n",
    "        # Calculate the 9-day Price Rate of Change\n",
    "        data['Price Rate Of Change'] = data['Close'].pct_change(periods=9)\n",
    "\n",
    "        # Calculate On Balance Volume\n",
    "        data['On Balance Volume'] = get_OBV(data)\n",
    "\n",
    "        # Create the predicition column (To keep this as a binary classifier we'll consider flat days as up days)\n",
    "        days_out = 9\n",
    "        data['Prediction'] = np.sign(np.sign(data['Close'].shift(-days_out) - data['Close']) + 1.)\n",
    "\n",
    "        # Drop rows with NaN.\n",
    "        data = data.dropna()\n",
    "\n",
    "        X_i = data[['Close', 'RSI', 'k_percent', 'r_percent', 'MACD', 'MACD_EMA9', 'Price Rate Of Change', 'On Balance Volume']].copy()\n",
    "        X_i.columns = [[sector]*len(X_i.columns), [stock_name]*len(X_i.columns), X_i.columns]\n",
    "        \n",
    "        y_i = data['Prediction'].copy()\n",
    "        y_i.name = stock\n",
    "        \n",
    "        samples.append(X_i)\n",
    "        labels.append(y_i)\n",
    "\n",
    "        \n",
    "samples = pd.concat(samples, axis=1)\n",
    "samples.columns.names = ['Sector', 'Asset', 'Metrics']\n",
    "\n",
    "labels = pd.concat(labels, axis=1)"
   ]
  },
  {
   "cell_type": "code",
   "execution_count": 7,
   "metadata": {},
   "outputs": [
    {
     "data": {
      "text/html": [
       "<div>\n",
       "<style>\n",
       "    .dataframe thead tr:only-child th {\n",
       "        text-align: right;\n",
       "    }\n",
       "\n",
       "    .dataframe thead th {\n",
       "        text-align: left;\n",
       "    }\n",
       "\n",
       "    .dataframe tbody tr th {\n",
       "        vertical-align: top;\n",
       "    }\n",
       "</style>\n",
       "<table border=\"1\" class=\"dataframe\">\n",
       "  <thead>\n",
       "    <tr>\n",
       "      <th>Sector</th>\n",
       "      <th colspan=\"10\" halign=\"left\">Communication Services</th>\n",
       "      <th>...</th>\n",
       "      <th colspan=\"10\" halign=\"left\">Information Technology</th>\n",
       "    </tr>\n",
       "    <tr>\n",
       "      <th>Asset</th>\n",
       "      <th colspan=\"8\" halign=\"left\">asset_1</th>\n",
       "      <th colspan=\"2\" halign=\"left\">asset_2</th>\n",
       "      <th>...</th>\n",
       "      <th colspan=\"2\" halign=\"left\">asset_2</th>\n",
       "      <th colspan=\"8\" halign=\"left\">asset_3</th>\n",
       "    </tr>\n",
       "    <tr>\n",
       "      <th>Metrics</th>\n",
       "      <th>Close</th>\n",
       "      <th>RSI</th>\n",
       "      <th>k_percent</th>\n",
       "      <th>r_percent</th>\n",
       "      <th>MACD</th>\n",
       "      <th>MACD_EMA9</th>\n",
       "      <th>Price Rate Of Change</th>\n",
       "      <th>On Balance Volume</th>\n",
       "      <th>Close</th>\n",
       "      <th>RSI</th>\n",
       "      <th>...</th>\n",
       "      <th>Price Rate Of Change</th>\n",
       "      <th>On Balance Volume</th>\n",
       "      <th>Close</th>\n",
       "      <th>RSI</th>\n",
       "      <th>k_percent</th>\n",
       "      <th>r_percent</th>\n",
       "      <th>MACD</th>\n",
       "      <th>MACD_EMA9</th>\n",
       "      <th>Price Rate Of Change</th>\n",
       "      <th>On Balance Volume</th>\n",
       "    </tr>\n",
       "    <tr>\n",
       "      <th>Date</th>\n",
       "      <th></th>\n",
       "      <th></th>\n",
       "      <th></th>\n",
       "      <th></th>\n",
       "      <th></th>\n",
       "      <th></th>\n",
       "      <th></th>\n",
       "      <th></th>\n",
       "      <th></th>\n",
       "      <th></th>\n",
       "      <th></th>\n",
       "      <th></th>\n",
       "      <th></th>\n",
       "      <th></th>\n",
       "      <th></th>\n",
       "      <th></th>\n",
       "      <th></th>\n",
       "      <th></th>\n",
       "      <th></th>\n",
       "      <th></th>\n",
       "      <th></th>\n",
       "    </tr>\n",
       "  </thead>\n",
       "  <tbody>\n",
       "    <tr>\n",
       "      <th>2015-01-22</th>\n",
       "      <td>537.299988</td>\n",
       "      <td>78.297375</td>\n",
       "      <td>96.786901</td>\n",
       "      <td>-3.213099</td>\n",
       "      <td>1.956715</td>\n",
       "      <td>-0.117862</td>\n",
       "      <td>0.059951</td>\n",
       "      <td>-33200</td>\n",
       "      <td>532.926819</td>\n",
       "      <td>79.627212</td>\n",
       "      <td>...</td>\n",
       "      <td>-0.009666</td>\n",
       "      <td>-94025500</td>\n",
       "      <td>64.400002</td>\n",
       "      <td>44.509507</td>\n",
       "      <td>40.000040</td>\n",
       "      <td>-59.999960</td>\n",
       "      <td>-0.143929</td>\n",
       "      <td>-0.121585</td>\n",
       "      <td>-0.025903</td>\n",
       "      <td>13929600</td>\n",
       "    </tr>\n",
       "    <tr>\n",
       "      <th>2015-01-23</th>\n",
       "      <td>541.950012</td>\n",
       "      <td>80.642355</td>\n",
       "      <td>93.651444</td>\n",
       "      <td>-6.348556</td>\n",
       "      <td>3.404653</td>\n",
       "      <td>0.612332</td>\n",
       "      <td>0.082341</td>\n",
       "      <td>2265100</td>\n",
       "      <td>538.471619</td>\n",
       "      <td>82.229428</td>\n",
       "      <td>...</td>\n",
       "      <td>-0.000212</td>\n",
       "      <td>-67813900</td>\n",
       "      <td>64.572502</td>\n",
       "      <td>47.916069</td>\n",
       "      <td>47.449404</td>\n",
       "      <td>-52.550596</td>\n",
       "      <td>-0.118848</td>\n",
       "      <td>-0.121018</td>\n",
       "      <td>-0.008598</td>\n",
       "      <td>20096400</td>\n",
       "    </tr>\n",
       "    <tr>\n",
       "      <th>2015-01-26</th>\n",
       "      <td>536.719971</td>\n",
       "      <td>70.724965</td>\n",
       "      <td>84.055032</td>\n",
       "      <td>-15.944968</td>\n",
       "      <td>4.143347</td>\n",
       "      <td>1.338989</td>\n",
       "      <td>0.079789</td>\n",
       "      <td>718500</td>\n",
       "      <td>533.744629</td>\n",
       "      <td>73.051049</td>\n",
       "      <td>...</td>\n",
       "      <td>0.008798</td>\n",
       "      <td>-110339400</td>\n",
       "      <td>64.132500</td>\n",
       "      <td>40.583452</td>\n",
       "      <td>35.150242</td>\n",
       "      <td>-64.849758</td>\n",
       "      <td>-0.125008</td>\n",
       "      <td>-0.121839</td>\n",
       "      <td>-0.013422</td>\n",
       "      <td>11544000</td>\n",
       "    </tr>\n",
       "    <tr>\n",
       "      <th>2015-01-27</th>\n",
       "      <td>521.190002</td>\n",
       "      <td>49.758853</td>\n",
       "      <td>55.559662</td>\n",
       "      <td>-44.440338</td>\n",
       "      <td>3.694220</td>\n",
       "      <td>1.820886</td>\n",
       "      <td>0.038641</td>\n",
       "      <td>-1238900</td>\n",
       "      <td>517.210022</td>\n",
       "      <td>50.362629</td>\n",
       "      <td>...</td>\n",
       "      <td>-0.079810</td>\n",
       "      <td>-279503400</td>\n",
       "      <td>62.747501</td>\n",
       "      <td>26.085235</td>\n",
       "      <td>13.987256</td>\n",
       "      <td>-86.012744</td>\n",
       "      <td>-0.213865</td>\n",
       "      <td>-0.140668</td>\n",
       "      <td>-0.037541</td>\n",
       "      <td>516400</td>\n",
       "    </tr>\n",
       "    <tr>\n",
       "      <th>2015-01-28</th>\n",
       "      <td>512.429993</td>\n",
       "      <td>41.711036</td>\n",
       "      <td>39.486240</td>\n",
       "      <td>-60.513760</td>\n",
       "      <td>2.752592</td>\n",
       "      <td>2.010646</td>\n",
       "      <td>0.012848</td>\n",
       "      <td>-3030000</td>\n",
       "      <td>508.603638</td>\n",
       "      <td>42.445246</td>\n",
       "      <td>...</td>\n",
       "      <td>-0.103786</td>\n",
       "      <td>-364010500</td>\n",
       "      <td>61.590000</td>\n",
       "      <td>19.401479</td>\n",
       "      <td>0.307522</td>\n",
       "      <td>-99.692478</td>\n",
       "      <td>-0.352269</td>\n",
       "      <td>-0.183765</td>\n",
       "      <td>-0.035999</td>\n",
       "      <td>-10914400</td>\n",
       "    </tr>\n",
       "  </tbody>\n",
       "</table>\n",
       "<p>5 rows × 96 columns</p>\n",
       "</div>"
      ],
      "text/plain": [
       "Sector     Communication Services                                             \\\n",
       "Asset                     asset_1                                              \n",
       "Metrics                     Close        RSI  k_percent  r_percent      MACD   \n",
       "Date                                                                           \n",
       "2015-01-22             537.299988  78.297375  96.786901  -3.213099  1.956715   \n",
       "2015-01-23             541.950012  80.642355  93.651444  -6.348556  3.404653   \n",
       "2015-01-26             536.719971  70.724965  84.055032 -15.944968  4.143347   \n",
       "2015-01-27             521.190002  49.758853  55.559662 -44.440338  3.694220   \n",
       "2015-01-28             512.429993  41.711036  39.486240 -60.513760  2.752592   \n",
       "\n",
       "Sector                                                                   \\\n",
       "Asset                                                           asset_2   \n",
       "Metrics    MACD_EMA9 Price Rate Of Change On Balance Volume       Close   \n",
       "Date                                                                      \n",
       "2015-01-22 -0.117862             0.059951            -33200  532.926819   \n",
       "2015-01-23  0.612332             0.082341           2265100  538.471619   \n",
       "2015-01-26  1.338989             0.079789            718500  533.744629   \n",
       "2015-01-27  1.820886             0.038641          -1238900  517.210022   \n",
       "2015-01-28  2.010646             0.012848          -3030000  508.603638   \n",
       "\n",
       "Sector                       ...        Information Technology  \\\n",
       "Asset                        ...                       asset_2   \n",
       "Metrics           RSI        ...          Price Rate Of Change   \n",
       "Date                         ...                                 \n",
       "2015-01-22  79.627212        ...                     -0.009666   \n",
       "2015-01-23  82.229428        ...                     -0.000212   \n",
       "2015-01-26  73.051049        ...                      0.008798   \n",
       "2015-01-27  50.362629        ...                     -0.079810   \n",
       "2015-01-28  42.445246        ...                     -0.103786   \n",
       "\n",
       "Sector                                                                    \\\n",
       "Asset                           asset_3                                    \n",
       "Metrics    On Balance Volume      Close        RSI  k_percent  r_percent   \n",
       "Date                                                                       \n",
       "2015-01-22         -94025500  64.400002  44.509507  40.000040 -59.999960   \n",
       "2015-01-23         -67813900  64.572502  47.916069  47.449404 -52.550596   \n",
       "2015-01-26        -110339400  64.132500  40.583452  35.150242 -64.849758   \n",
       "2015-01-27        -279503400  62.747501  26.085235  13.987256 -86.012744   \n",
       "2015-01-28        -364010500  61.590000  19.401479   0.307522 -99.692478   \n",
       "\n",
       "Sector                                                                 \n",
       "Asset                                                                  \n",
       "Metrics         MACD MACD_EMA9 Price Rate Of Change On Balance Volume  \n",
       "Date                                                                   \n",
       "2015-01-22 -0.143929 -0.121585            -0.025903          13929600  \n",
       "2015-01-23 -0.118848 -0.121018            -0.008598          20096400  \n",
       "2015-01-26 -0.125008 -0.121839            -0.013422          11544000  \n",
       "2015-01-27 -0.213865 -0.140668            -0.037541            516400  \n",
       "2015-01-28 -0.352269 -0.183765            -0.035999         -10914400  \n",
       "\n",
       "[5 rows x 96 columns]"
      ]
     },
     "execution_count": 7,
     "metadata": {},
     "output_type": "execute_result"
    }
   ],
   "source": [
    "samples.head()"
   ]
  },
  {
   "cell_type": "code",
   "execution_count": 8,
   "metadata": {},
   "outputs": [
    {
     "data": {
      "text/html": [
       "<div>\n",
       "<style>\n",
       "    .dataframe thead tr:only-child th {\n",
       "        text-align: right;\n",
       "    }\n",
       "\n",
       "    .dataframe thead th {\n",
       "        text-align: left;\n",
       "    }\n",
       "\n",
       "    .dataframe tbody tr th {\n",
       "        vertical-align: top;\n",
       "    }\n",
       "</style>\n",
       "<table border=\"1\" class=\"dataframe\">\n",
       "  <thead>\n",
       "    <tr style=\"text-align: right;\">\n",
       "      <th></th>\n",
       "      <th>GOOGL</th>\n",
       "      <th>GOOG</th>\n",
       "      <th>FB</th>\n",
       "      <th>AMZN</th>\n",
       "      <th>HD</th>\n",
       "      <th>MCD</th>\n",
       "      <th>JPM</th>\n",
       "      <th>BAC</th>\n",
       "      <th>WFC</th>\n",
       "      <th>AAPL</th>\n",
       "      <th>MSFT</th>\n",
       "      <th>V</th>\n",
       "    </tr>\n",
       "    <tr>\n",
       "      <th>Date</th>\n",
       "      <th></th>\n",
       "      <th></th>\n",
       "      <th></th>\n",
       "      <th></th>\n",
       "      <th></th>\n",
       "      <th></th>\n",
       "      <th></th>\n",
       "      <th></th>\n",
       "      <th></th>\n",
       "      <th></th>\n",
       "      <th></th>\n",
       "      <th></th>\n",
       "    </tr>\n",
       "  </thead>\n",
       "  <tbody>\n",
       "    <tr>\n",
       "      <th>2015-01-22</th>\n",
       "      <td>0.0</td>\n",
       "      <td>0.0</td>\n",
       "      <td>0.0</td>\n",
       "      <td>1.0</td>\n",
       "      <td>1.0</td>\n",
       "      <td>1.0</td>\n",
       "      <td>0.0</td>\n",
       "      <td>0.0</td>\n",
       "      <td>0.0</td>\n",
       "      <td>1.0</td>\n",
       "      <td>0.0</td>\n",
       "      <td>1.0</td>\n",
       "    </tr>\n",
       "    <tr>\n",
       "      <th>2015-01-23</th>\n",
       "      <td>0.0</td>\n",
       "      <td>0.0</td>\n",
       "      <td>0.0</td>\n",
       "      <td>1.0</td>\n",
       "      <td>1.0</td>\n",
       "      <td>1.0</td>\n",
       "      <td>1.0</td>\n",
       "      <td>1.0</td>\n",
       "      <td>1.0</td>\n",
       "      <td>1.0</td>\n",
       "      <td>0.0</td>\n",
       "      <td>1.0</td>\n",
       "    </tr>\n",
       "    <tr>\n",
       "      <th>2015-01-26</th>\n",
       "      <td>0.0</td>\n",
       "      <td>0.0</td>\n",
       "      <td>0.0</td>\n",
       "      <td>1.0</td>\n",
       "      <td>1.0</td>\n",
       "      <td>1.0</td>\n",
       "      <td>1.0</td>\n",
       "      <td>1.0</td>\n",
       "      <td>1.0</td>\n",
       "      <td>1.0</td>\n",
       "      <td>0.0</td>\n",
       "      <td>1.0</td>\n",
       "    </tr>\n",
       "    <tr>\n",
       "      <th>2015-01-27</th>\n",
       "      <td>1.0</td>\n",
       "      <td>1.0</td>\n",
       "      <td>0.0</td>\n",
       "      <td>1.0</td>\n",
       "      <td>1.0</td>\n",
       "      <td>1.0</td>\n",
       "      <td>1.0</td>\n",
       "      <td>1.0</td>\n",
       "      <td>1.0</td>\n",
       "      <td>1.0</td>\n",
       "      <td>0.0</td>\n",
       "      <td>1.0</td>\n",
       "    </tr>\n",
       "    <tr>\n",
       "      <th>2015-01-28</th>\n",
       "      <td>1.0</td>\n",
       "      <td>1.0</td>\n",
       "      <td>0.0</td>\n",
       "      <td>1.0</td>\n",
       "      <td>1.0</td>\n",
       "      <td>1.0</td>\n",
       "      <td>1.0</td>\n",
       "      <td>1.0</td>\n",
       "      <td>1.0</td>\n",
       "      <td>1.0</td>\n",
       "      <td>1.0</td>\n",
       "      <td>1.0</td>\n",
       "    </tr>\n",
       "  </tbody>\n",
       "</table>\n",
       "</div>"
      ],
      "text/plain": [
       "            GOOGL  GOOG   FB  AMZN   HD  MCD  JPM  BAC  WFC  AAPL  MSFT    V\n",
       "Date                                                                        \n",
       "2015-01-22    0.0   0.0  0.0   1.0  1.0  1.0  0.0  0.0  0.0   1.0   0.0  1.0\n",
       "2015-01-23    0.0   0.0  0.0   1.0  1.0  1.0  1.0  1.0  1.0   1.0   0.0  1.0\n",
       "2015-01-26    0.0   0.0  0.0   1.0  1.0  1.0  1.0  1.0  1.0   1.0   0.0  1.0\n",
       "2015-01-27    1.0   1.0  0.0   1.0  1.0  1.0  1.0  1.0  1.0   1.0   0.0  1.0\n",
       "2015-01-28    1.0   1.0  0.0   1.0  1.0  1.0  1.0  1.0  1.0   1.0   1.0  1.0"
      ]
     },
     "execution_count": 8,
     "metadata": {},
     "output_type": "execute_result"
    }
   ],
   "source": [
    "labels.head()"
   ]
  },
  {
   "cell_type": "code",
   "execution_count": 9,
   "metadata": {},
   "outputs": [],
   "source": [
    "from hottbox.core import Tensor, TensorTKD\n",
    "from hottbox.pdtools import pd_to_tensor\n",
    "from hottbox.algorithms.decomposition import HOSVD, HOOI\n",
    "# from hottbox.utils.generation import residual_tensor\n",
    "from hottbox.algorithms.classification import TelVI\n",
    "\n",
    "from sklearn.model_selection import train_test_split\n",
    "from sklearn.svm import SVC\n",
    "from sklearn.tree import DecisionTreeClassifier"
   ]
  },
  {
   "cell_type": "code",
   "execution_count": 10,
   "metadata": {},
   "outputs": [
    {
     "name": "stdout",
     "output_type": "stream",
     "text": [
      "This tensor is of order 3 and consists of 96 elements.\n",
      "Sizes and names of its modes are (8, 3, 4) and ['Metrics', 'Asset', 'Sector'] respectively. \n",
      "\n",
      " [0. 0. 0. 1. 1. 1. 0. 0. 0. 1. 0. 1.]\n"
     ]
    }
   ],
   "source": [
    "X = []\n",
    "for i in range(len(samples)):\n",
    "    X_t = samples.iloc[i].reorder_levels(['Metrics', 'Asset', 'Sector'])\n",
    "    X.append(pd_to_tensor(X_t))\n",
    "\n",
    "y = np.array(labels)\n",
    "\n",
    "print(X[0], '\\n\\n', y[0])"
   ]
  },
  {
   "cell_type": "markdown",
   "metadata": {},
   "source": [
    "------------\n",
    "Create a graph between sectors\n",
    "------------"
   ]
  },
  {
   "cell_type": "code",
   "execution_count": 15,
   "metadata": {},
   "outputs": [
    {
     "data": {
      "text/plain": [
       "{'Communication Services': ['GOOGL', 'GOOG', 'FB'],\n",
       " 'Consumer Discretionary': ['AMZN', 'HD', 'MCD'],\n",
       " 'Financials': ['JPM', 'BAC', 'WFC'],\n",
       " 'Information Technology': ['AAPL', 'MSFT', 'V']}"
      ]
     },
     "execution_count": 15,
     "metadata": {},
     "output_type": "execute_result"
    }
   ],
   "source": [
    "stocks"
   ]
  },
  {
   "cell_type": "code",
   "execution_count": 16,
   "metadata": {},
   "outputs": [
    {
     "data": {
      "text/html": [
       "<div>\n",
       "<style>\n",
       "    .dataframe thead tr:only-child th {\n",
       "        text-align: right;\n",
       "    }\n",
       "\n",
       "    .dataframe thead th {\n",
       "        text-align: left;\n",
       "    }\n",
       "\n",
       "    .dataframe tbody tr th {\n",
       "        vertical-align: top;\n",
       "    }\n",
       "</style>\n",
       "<table border=\"1\" class=\"dataframe\">\n",
       "  <thead>\n",
       "    <tr style=\"text-align: right;\">\n",
       "      <th></th>\n",
       "      <th>Communication Services</th>\n",
       "      <th>Consumer Discretionary</th>\n",
       "      <th>Financials</th>\n",
       "      <th>Information Technology</th>\n",
       "    </tr>\n",
       "    <tr>\n",
       "      <th>Date</th>\n",
       "      <th></th>\n",
       "      <th></th>\n",
       "      <th></th>\n",
       "      <th></th>\n",
       "    </tr>\n",
       "  </thead>\n",
       "  <tbody>\n",
       "    <tr>\n",
       "      <th>2015-01-23</th>\n",
       "      <td>0.007094</td>\n",
       "      <td>-0.004905</td>\n",
       "      <td>-0.016029</td>\n",
       "      <td>0.002961</td>\n",
       "    </tr>\n",
       "    <tr>\n",
       "      <th>2015-01-26</th>\n",
       "      <td>-0.007588</td>\n",
       "      <td>0.004297</td>\n",
       "      <td>0.005059</td>\n",
       "      <td>-0.003129</td>\n",
       "    </tr>\n",
       "    <tr>\n",
       "      <th>2015-01-27</th>\n",
       "      <td>-0.027758</td>\n",
       "      <td>-0.010998</td>\n",
       "      <td>-0.011840</td>\n",
       "      <td>-0.051524</td>\n",
       "    </tr>\n",
       "    <tr>\n",
       "      <th>2015-01-28</th>\n",
       "      <td>-0.009226</td>\n",
       "      <td>-0.007387</td>\n",
       "      <td>-0.023149</td>\n",
       "      <td>0.000436</td>\n",
       "    </tr>\n",
       "    <tr>\n",
       "      <th>2015-01-29</th>\n",
       "      <td>0.008559</td>\n",
       "      <td>0.034010</td>\n",
       "      <td>0.014373</td>\n",
       "      <td>0.019002</td>\n",
       "    </tr>\n",
       "  </tbody>\n",
       "</table>\n",
       "</div>"
      ],
      "text/plain": [
       "            Communication Services  Consumer Discretionary  Financials  \\\n",
       "Date                                                                     \n",
       "2015-01-23                0.007094               -0.004905   -0.016029   \n",
       "2015-01-26               -0.007588                0.004297    0.005059   \n",
       "2015-01-27               -0.027758               -0.010998   -0.011840   \n",
       "2015-01-28               -0.009226               -0.007387   -0.023149   \n",
       "2015-01-29                0.008559                0.034010    0.014373   \n",
       "\n",
       "            Information Technology  \n",
       "Date                                \n",
       "2015-01-23                0.002961  \n",
       "2015-01-26               -0.003129  \n",
       "2015-01-27               -0.051524  \n",
       "2015-01-28                0.000436  \n",
       "2015-01-29                0.019002  "
      ]
     },
     "execution_count": 16,
     "metadata": {},
     "output_type": "execute_result"
    }
   ],
   "source": [
    "returns = pd.DataFrame(index=samples.index, columns=stocks.keys())\n",
    "for sector in stocks:\n",
    "    sector_df = pd.DataFrame(index=samples.index, columns=stocks[sector])\n",
    "    for stock in stocks[sector]:\n",
    "        data = pd.read_csv(yf_path+stock+\".csv\", index_col='Date', parse_dates=True, date_parser=mydateparser)\n",
    "        sector_df[stock] = data['Close']\n",
    "    returns[sector] = np.log(sector_df).diff().mean(axis=1)\n",
    "    \n",
    "returns = returns.dropna()\n",
    "\n",
    "returns.head()"
   ]
  },
  {
   "cell_type": "code",
   "execution_count": 10,
   "metadata": {},
   "outputs": [],
   "source": [
    "### THE GLTD CLASS ###\n",
    "# Implemented for third order tensor decomposition\n",
    "# Last mode should be the regularized mode\n",
    "class GLTD:\n",
    "    def __init__(self, S, beta=0, max_iter=50, epsilon=1e-2, tol=1e-4, verbose=False):\n",
    "        self.max_iter = max_iter\n",
    "        self.epsilon = epsilon\n",
    "        self.tol = tol\n",
    "        self.verbose = verbose\n",
    "        \n",
    "        self.S = S\n",
    "        self.L = self.calculate_L(S)\n",
    "        \n",
    "        self.beta = beta\n",
    "        self.alpha = 0.4\n",
    "        self.xi = np.sort(np.linalg.eig(self.L)[0])[-1]\n",
    "        \n",
    "        \n",
    "        \n",
    "    def calculate_L(self, S):\n",
    "        D = np.identity(len(S))\n",
    "        for i in range(len(S)):\n",
    "            total = 0\n",
    "            for j in range(len(S)):\n",
    "                total += S[i,j]\n",
    "            D[i,i] = total\n",
    "        return D - S\n",
    "\n",
    "        \n",
    "        \n",
    "    def decompose(self, tensor, rank):\n",
    "        \n",
    "        if not isinstance(tensor, Tensor):\n",
    "            raise TypeError(\"Parameter `tensor` should be an object of `Tensor` class!\")\n",
    "        if not isinstance(rank, tuple):\n",
    "            raise TypeError(\"Parameter `rank` should be passed as a tuple!\")\n",
    "        if tensor.order != len(rank):\n",
    "            raise ValueError(\"Parameter `rank` should be a tuple of same length as the order of a tensor:\\n\"\n",
    "                             \"{} != {} (tensor.order != len(rank))\".format(tensor.order, len(rank)))\n",
    "        \n",
    "#         c = []\n",
    "        converged = False\n",
    "        cost = []\n",
    "        \n",
    "        tensor_tkd = None\n",
    "        fmat_gltd = self._init_fmat(tensor, rank)\n",
    "        norm = tensor.frob_norm\n",
    "        for n_iter in range(self.max_iter):\n",
    "\n",
    "            \n",
    "            ### Update factor matrices\n",
    "            ### step 1\n",
    "            V, W = fmat_gltd[1], fmat_gltd[2]\n",
    "            VVT = np.dot(V, V.T)\n",
    "            WWT = np.dot(W, W.T)\n",
    "\n",
    "            A = tensor.mode_n_product(VVT, mode=1, inplace=False)\n",
    "            B = tensor.mode_n_product(WWT, mode=2, inplace=False)\n",
    "\n",
    "            n = tensor.shape[0]\n",
    "            F = np.zeros((n,n))\n",
    "\n",
    "            for i in range(n):\n",
    "                for j in range(n):\n",
    "                    F[i,j] = np.trace(np.dot(A[i,:,:].T, B[j,:,:]))\n",
    "\n",
    "            U, _, _ = scipy.linalg.svd(F)\n",
    "            U = U[:,:rank[0]]\n",
    "            fmat_gltd[0] = U\n",
    "\n",
    "            ### step 2\n",
    "            U, W = fmat_gltd[0], fmat_gltd[2]\n",
    "            UUT = np.dot(U, U.T)\n",
    "            WWT = np.dot(W, W.T)\n",
    "\n",
    "            A = tensor.mode_n_product(UUT, mode=0, inplace=False)\n",
    "            B = tensor.mode_n_product(WWT, mode=2, inplace=False)\n",
    "\n",
    "            n = tensor.shape[1]\n",
    "            G = np.zeros((n,n))\n",
    "\n",
    "            for i in range(n):\n",
    "                for j in range(n):\n",
    "                    G[i,j] = np.trace(np.dot(A[:,i,:].T, B[:,j,:]))\n",
    "\n",
    "            V, _, _ = scipy.linalg.svd(G)\n",
    "            V = V[:,:rank[1]]\n",
    "            fmat_gltd[1] = V\n",
    "\n",
    "            ### step 3\n",
    "            U, V = fmat_gltd[0], fmat_gltd[1]\n",
    "            UUT = np.dot(U, U.T)\n",
    "            VVT = np.dot(V, V.T)\n",
    "\n",
    "            A = tensor.mode_n_product(UUT, mode=0, inplace=False)\n",
    "            B = tensor.mode_n_product(VVT, mode=1, inplace=False)\n",
    "\n",
    "            n = tensor.shape[2]\n",
    "            H = np.zeros((n,n))\n",
    "\n",
    "            for i in range(n):\n",
    "                for j in range(n):\n",
    "                    H[i,j] = np.trace(np.dot(A[:,:,i].T, B[:,:,j]))\n",
    "                   \n",
    "            ### Graph-regularization here\n",
    "#             lmbda = np.sort(np.linalg.eig(H)[0])[-1]\n",
    "#             self.alpha = (self.beta / (1 - self.beta)) * (lmbda / self.xi)\n",
    "#             reg_H = (H/lmbda) - self.alpha * (self.L/self.xi)\n",
    "\n",
    "            W, _, _ = scipy.linalg.svd(H) \n",
    "            W = W[:,:rank[2]]\n",
    "            fmat_gltd[2] = W\n",
    "\n",
    "            \n",
    "            ### Update core\n",
    "            core = tensor.copy()\n",
    "            for mode, fmat in enumerate(fmat_gltd):\n",
    "                core.mode_n_product(fmat.T, mode=mode)\n",
    "\n",
    "\n",
    "            ### Update cost\n",
    "            ### HERE WE HAVE TO CHANGE, HAVING PROBLEMS!!!\n",
    "            tensor_tkd = TensorTKD(fmat=fmat_gltd, core_values=core.data)\n",
    "            residual = residual_tensor(tensor, tensor_tkd)\n",
    "            \n",
    "            cost_ilia = abs(residual.frob_norm / norm)\n",
    "            \n",
    "            \n",
    "            cost_GLTD = \n",
    "            \n",
    "            \n",
    "            cost.append(cost_ilia)\n",
    "            \n",
    "            \n",
    "#             cost_1 = abs(residual.frob_norm)**2\n",
    "#             cost_2 = np.trace(np.dot(W.T, np.dot(self.L, W)))\n",
    "#             c.append((cost_1, self.alpha * cost_2)) \n",
    "\n",
    "#             cost.append((cost_1 + self.alpha * cost_2))\n",
    "            \n",
    "\n",
    "            ### Check termination conditions\n",
    "            if cost[-1] <= self.epsilon:\n",
    "                if self.verbose:\n",
    "                    print('Relative error of approximation has reached the acceptable level: {}'.format(cost[-1]))\n",
    "                break\n",
    "            if len(cost) >= 2 and abs(cost[-2] - cost[-1]) <= self.tol:\n",
    "                converged = True\n",
    "                if self.verbose:\n",
    "                    print('Converged in {} iteration(s)'.format(len(cost)))\n",
    "                break\n",
    "                \n",
    "        if not converged and cost[-1] > self.epsilon:\n",
    "            print('Maximum number of iterations ({}) has been reached. '\n",
    "                  'Variation = {}'.format(self.max_iter, abs(cost[-2] - cost[-1])))\n",
    "            \n",
    "        return tensor_tkd\n",
    "    \n",
    "\n",
    "    \n",
    "    def _init_fmat(self, tensor, rank):\n",
    "#         hosvd = HOSVD()\n",
    "#         tensor_hosvd = hosvd.decompose(tensor, rank)\n",
    "#         fmat = tensor_hosvd.fmat\n",
    "\n",
    "        ### init fmat as the identity matrices\n",
    "        fmat = []\n",
    "        fmat.append(np.identity(tensor.shape[0])[:,:rank[0]])\n",
    "        fmat.append(np.identity(tensor.shape[1])[:,:rank[1]])\n",
    "        fmat.append(np.identity(tensor.shape[2])[:,:rank[2]])\n",
    "\n",
    "        return fmat"
   ]
  },
  {
   "cell_type": "code",
   "execution_count": 17,
   "metadata": {},
   "outputs": [
    {
     "data": {
      "text/html": [
       "<div>\n",
       "<style>\n",
       "    .dataframe thead tr:only-child th {\n",
       "        text-align: right;\n",
       "    }\n",
       "\n",
       "    .dataframe thead th {\n",
       "        text-align: left;\n",
       "    }\n",
       "\n",
       "    .dataframe tbody tr th {\n",
       "        vertical-align: top;\n",
       "    }\n",
       "</style>\n",
       "<table border=\"1\" class=\"dataframe\">\n",
       "  <thead>\n",
       "    <tr style=\"text-align: right;\">\n",
       "      <th></th>\n",
       "      <th>Communication Services</th>\n",
       "      <th>Consumer Discretionary</th>\n",
       "      <th>Financials</th>\n",
       "      <th>Information Technology</th>\n",
       "    </tr>\n",
       "  </thead>\n",
       "  <tbody>\n",
       "    <tr>\n",
       "      <th>Communication Services</th>\n",
       "      <td>1.000000</td>\n",
       "      <td>0.693367</td>\n",
       "      <td>0.414596</td>\n",
       "      <td>0.719136</td>\n",
       "    </tr>\n",
       "    <tr>\n",
       "      <th>Consumer Discretionary</th>\n",
       "      <td>0.693367</td>\n",
       "      <td>1.000000</td>\n",
       "      <td>0.491686</td>\n",
       "      <td>0.716564</td>\n",
       "    </tr>\n",
       "    <tr>\n",
       "      <th>Financials</th>\n",
       "      <td>0.414596</td>\n",
       "      <td>0.491686</td>\n",
       "      <td>1.000000</td>\n",
       "      <td>0.540906</td>\n",
       "    </tr>\n",
       "    <tr>\n",
       "      <th>Information Technology</th>\n",
       "      <td>0.719136</td>\n",
       "      <td>0.716564</td>\n",
       "      <td>0.540906</td>\n",
       "      <td>1.000000</td>\n",
       "    </tr>\n",
       "  </tbody>\n",
       "</table>\n",
       "</div>"
      ],
      "text/plain": [
       "                        Communication Services  Consumer Discretionary  \\\n",
       "Communication Services                1.000000                0.693367   \n",
       "Consumer Discretionary                0.693367                1.000000   \n",
       "Financials                            0.414596                0.491686   \n",
       "Information Technology                0.719136                0.716564   \n",
       "\n",
       "                        Financials  Information Technology  \n",
       "Communication Services    0.414596                0.719136  \n",
       "Consumer Discretionary    0.491686                0.716564  \n",
       "Financials                1.000000                0.540906  \n",
       "Information Technology    0.540906                1.000000  "
      ]
     },
     "execution_count": 17,
     "metadata": {},
     "output_type": "execute_result"
    }
   ],
   "source": [
    "corr_matrix = returns.corr()\n",
    "corr_matrix"
   ]
  },
  {
   "cell_type": "code",
   "execution_count": 18,
   "metadata": {},
   "outputs": [
    {
     "data": {
      "text/plain": [
       "matrix([[1.        , 0.69336696, 0.41459595, 0.71913575],\n",
       "        [0.69336696, 1.        , 0.49168562, 0.71656427],\n",
       "        [0.41459595, 0.49168562, 1.        , 0.54090633],\n",
       "        [0.71913575, 0.71656427, 0.54090633, 1.        ]])"
      ]
     },
     "execution_count": 18,
     "metadata": {},
     "output_type": "execute_result"
    }
   ],
   "source": [
    "cor_matrix = np.asmatrix(corr_matrix)\n",
    "cor_matrix"
   ]
  },
  {
   "cell_type": "code",
   "execution_count": 19,
   "metadata": {},
   "outputs": [
    {
     "data": {
      "text/plain": [
       "matrix([[0.        , 0.69336696, 0.41459595, 0.71913575],\n",
       "        [0.69336696, 0.        , 0.49168562, 0.71656427],\n",
       "        [0.41459595, 0.49168562, 0.        , 0.54090633],\n",
       "        [0.71913575, 0.71656427, 0.54090633, 0.        ]])"
      ]
     },
     "execution_count": 19,
     "metadata": {},
     "output_type": "execute_result"
    }
   ],
   "source": [
    "S = cor_matrix\n",
    "for i in range(len(cor_matrix)):\n",
    "    S[i,i] = 0\n",
    "S"
   ]
  },
  {
   "cell_type": "code",
   "execution_count": 22,
   "metadata": {},
   "outputs": [
    {
     "data": {
      "text/plain": [
       "array([[1.82709865, 0.        , 0.        , 0.        ],\n",
       "       [0.        , 1.90161684, 0.        , 0.        ],\n",
       "       [0.        , 0.        , 1.4471879 , 0.        ],\n",
       "       [0.        , 0.        , 0.        , 1.97660634]])"
      ]
     },
     "execution_count": 22,
     "metadata": {},
     "output_type": "execute_result"
    }
   ],
   "source": [
    "D = np.identity(len(S))\n",
    "for i in range(len(S)):\n",
    "    total = 0\n",
    "    for j in range(len(S)):\n",
    "        total += S[i,j]\n",
    "    D[i,i] = total\n",
    "D"
   ]
  },
  {
   "cell_type": "code",
   "execution_count": 30,
   "metadata": {},
   "outputs": [
    {
     "data": {
      "text/plain": [
       "matrix([[ 1.82709865, -0.69336696, -0.41459595, -0.71913575],\n",
       "        [-0.69336696,  1.90161684, -0.49168562, -0.71656427],\n",
       "        [-0.41459595, -0.49168562,  1.4471879 , -0.54090633],\n",
       "        [-0.71913575, -0.71656427, -0.54090633,  1.97660634]])"
      ]
     },
     "execution_count": 30,
     "metadata": {},
     "output_type": "execute_result"
    }
   ],
   "source": [
    "L = D - S\n",
    "L"
   ]
  },
  {
   "cell_type": "markdown",
   "metadata": {},
   "source": [
    "------------\n",
    "GLTD\n",
    "------------"
   ]
  },
  {
   "cell_type": "code",
   "execution_count": 311,
   "metadata": {},
   "outputs": [
    {
     "name": "stdout",
     "output_type": "stream",
     "text": [
      "This tensor is of order 3 and consists of 96 elements.\n",
      "Sizes and names of its modes are (8, 3, 4) and ['Metrics', 'Asset', 'Sector'] respectively. \n",
      "\n",
      "(4, 2, 2)\n"
     ]
    }
   ],
   "source": [
    "tensor = X[0]\n",
    "rank = (4,2,2)\n",
    "print(tensor, '\\n')\n",
    "print(rank)"
   ]
  },
  {
   "cell_type": "code",
   "execution_count": 312,
   "metadata": {},
   "outputs": [],
   "source": [
    "import scipy.linalg\n",
    "import scipy.sparse.linalg\n",
    "\n",
    "from hottbox.core import Tensor, TensorTKD\n",
    "from hottbox.algorithms.decomposition import HOSVD, HOOI\n",
    "from hottbox.utils.generation import residual_tensor"
   ]
  },
  {
   "cell_type": "code",
   "execution_count": 480,
   "metadata": {},
   "outputs": [],
   "source": [
    "# Implemented for third order tensor decomposition\n",
    "# Last mode should be the regularized mode\n",
    "class GLTD:\n",
    "    def __init__(self, S, beta=0, max_iter=50, epsilon=1e-2, tol=1e-4, verbose=False):\n",
    "        self.max_iter = max_iter\n",
    "        self.epsilon = epsilon\n",
    "        self.tol = tol\n",
    "        self.verbose = verbose\n",
    "        \n",
    "        self.S = S\n",
    "        self.L = self.calculate_L(S)\n",
    "        \n",
    "        self.beta = beta\n",
    "        self.alpha = 0.4\n",
    "        self.xi = np.sort(np.linalg.eig(self.L)[0])[-1]\n",
    "        \n",
    "        \n",
    "        \n",
    "    def calculate_L(self, S):\n",
    "        D = np.identity(len(S))\n",
    "        for i in range(len(S)):\n",
    "            total = 0\n",
    "            for j in range(len(S)):\n",
    "                total += S[i,j]\n",
    "            D[i,i] = total\n",
    "        return D - S\n",
    "\n",
    "        \n",
    "        \n",
    "    def decompose(self, tensor, rank):\n",
    "        \n",
    "        if not isinstance(tensor, Tensor):\n",
    "            raise TypeError(\"Parameter `tensor` should be an object of `Tensor` class!\")\n",
    "        if not isinstance(rank, tuple):\n",
    "            raise TypeError(\"Parameter `rank` should be passed as a tuple!\")\n",
    "        if tensor.order != len(rank):\n",
    "            raise ValueError(\"Parameter `rank` should be a tuple of same length as the order of a tensor:\\n\"\n",
    "                             \"{} != {} (tensor.order != len(rank))\".format(tensor.order, len(rank)))\n",
    "        \n",
    "        c = []\n",
    "        converged = False\n",
    "        cost = []\n",
    "        tensor_tkd = None\n",
    "        fmat_gltd = self._init_fmat(tensor, rank)\n",
    "        norm = tensor.frob_norm\n",
    "        for n_iter in range(self.max_iter):\n",
    "\n",
    "            # Update factor matrices\n",
    "            # step 1\n",
    "            V, W = fmat_gltd[1], fmat_gltd[2]\n",
    "            VVT = np.dot(V, V.T)\n",
    "            WWT = np.dot(W, W.T)\n",
    "\n",
    "            A = tensor.mode_n_product(VVT, mode=1, inplace=False)\n",
    "            B = tensor.mode_n_product(WWT, mode=2, inplace=False)\n",
    "\n",
    "            n = tensor.shape[0]\n",
    "            F = np.zeros((n,n))\n",
    "\n",
    "            for i in range(n):\n",
    "                for j in range(n):\n",
    "                    F[i,j] = np.trace(np.dot(A[i,:,:].T, B[j,:,:]))\n",
    "\n",
    "            U, _, _ = scipy.linalg.svd(F)\n",
    "            U = U[:,:rank[0]]\n",
    "            fmat_gltd[0] = U\n",
    "\n",
    "            # step 2\n",
    "            U, W = fmat_gltd[0], fmat_gltd[2]\n",
    "            UUT = np.dot(U, U.T)\n",
    "            WWT = np.dot(W, W.T)\n",
    "\n",
    "            A = tensor.mode_n_product(UUT, mode=0, inplace=False)\n",
    "            B = tensor.mode_n_product(WWT, mode=2, inplace=False)\n",
    "\n",
    "            n = tensor.shape[1]\n",
    "            G = np.zeros((n,n))\n",
    "\n",
    "            for i in range(n):\n",
    "                for j in range(n):\n",
    "                    G[i,j] = np.trace(np.dot(A[:,i,:].T, B[:,j,:]))\n",
    "\n",
    "            V, _, _ = scipy.linalg.svd(G)\n",
    "            V = V[:,:rank[1]]\n",
    "            fmat_gltd[1] = V\n",
    "\n",
    "            # step 3\n",
    "            U, V = fmat_gltd[0], fmat_gltd[1]\n",
    "            UUT = np.dot(U, U.T)\n",
    "            VVT = np.dot(V, V.T)\n",
    "\n",
    "            A = tensor.mode_n_product(UUT, mode=0, inplace=False)\n",
    "            B = tensor.mode_n_product(VVT, mode=1, inplace=False)\n",
    "\n",
    "            n = tensor.shape[2]\n",
    "            H = np.zeros((n,n))\n",
    "\n",
    "            for i in range(n):\n",
    "                for j in range(n):\n",
    "                    H[i,j] = np.trace(np.dot(A[:,:,i].T, B[:,:,j]))\n",
    "                   \n",
    "            # Graph-regularization here\n",
    "            lmbda = np.sort(np.linalg.eig(H)[0])[-1]\n",
    "#             self.alpha = (self.beta / (1 - self.beta)) * (lmbda / self.xi)\n",
    "            \n",
    "            reg_H = (H/lmbda) - self.alpha * (self.L/self.xi)\n",
    "            W, _, _ = scipy.linalg.svd(reg_H) \n",
    "            W = W[:,:rank[2]]\n",
    "            fmat_gltd[2] = W\n",
    "\n",
    "            # Update core\n",
    "            core = tensor.copy()\n",
    "            for mode, fmat in enumerate(fmat_gltd):\n",
    "                core.mode_n_product(fmat.T, mode=mode)\n",
    "\n",
    "\n",
    "            # Update cost\n",
    "            tensor_tkd = TensorTKD(fmat=fmat_gltd, core_values=core.data)\n",
    "            residual = residual_tensor(tensor, tensor_tkd)\n",
    "            \n",
    "            cost_1 = abs(residual.frob_norm)**2\n",
    "            cost_2 = np.trace(np.dot(W.T, np.dot(self.L, W)))\n",
    "            c.append((cost_1, self.alpha * cost_2)) \n",
    "            \n",
    "            cost.append((cost_1 + self.alpha * cost_2))\n",
    "\n",
    "            # Check termination conditions\n",
    "            if cost[-1] <= self.epsilon:\n",
    "                if self.verbose:\n",
    "                    print('Relative error of approximation has reached the acceptable level: {}'.format(cost[-1]))\n",
    "                break\n",
    "            if len(cost) >= 2 and abs(cost[-2] - cost[-1]) <= self.tol:\n",
    "                converged = True\n",
    "                if self.verbose:\n",
    "                    print('Converged in {} iteration(s)'.format(len(cost)))\n",
    "                break\n",
    "                \n",
    "        if not converged and cost[-1] > self.epsilon:\n",
    "            print('Maximum number of iterations ({}) has been reached. '\n",
    "                  'Variation = {}'.format(self.max_iter, abs(cost[-2] - cost[-1])))\n",
    "            \n",
    "        return tensor_tkd, cost, c, H\n",
    "    \n",
    "\n",
    "    \n",
    "    def _init_fmat(self, tensor, rank):\n",
    "        \"\"\" Initialisation of factor matrices\n",
    "\n",
    "        Parameters\n",
    "        ----------\n",
    "        tensor : Tensor\n",
    "            Multidimensional data to be decomposed\n",
    "        rank : tuple\n",
    "            Desired multilinear rank for the given `tensor`\n",
    "\n",
    "        Returns\n",
    "        -------\n",
    "        fmat : list[np.ndarray]\n",
    "            List of factor matrices\n",
    "        \"\"\"\n",
    "#         hosvd = HOSVD()\n",
    "#         tensor_hosvd = hosvd.decompose(tensor, rank)\n",
    "#         fmat = tensor_hosvd.fmat\n",
    "\n",
    "        #init fmat as the identity matrices\n",
    "        fmat = []\n",
    "        fmat.append(np.identity(tensor.shape[0])[:,:rank[0]])\n",
    "        fmat.append(np.identity(tensor.shape[1])[:,:rank[1]])\n",
    "        fmat.append(np.identity(tensor.shape[2])[:,:rank[2]])\n",
    "\n",
    "        return fmat"
   ]
  },
  {
   "cell_type": "code",
   "execution_count": 481,
   "metadata": {},
   "outputs": [],
   "source": [
    "gltd = GLTD(S, beta=0.4 ,verbose=True)\n",
    "hooi = HOOI()\n",
    "hosvd = HOSVD()"
   ]
  },
  {
   "cell_type": "code",
   "execution_count": 482,
   "metadata": {},
   "outputs": [
    {
     "data": {
      "text/plain": [
       "2.6758842944151615"
      ]
     },
     "execution_count": 482,
     "metadata": {},
     "output_type": "execute_result"
    }
   ],
   "source": [
    "np.sort(np.linalg.eig(L)[0])[-1]"
   ]
  },
  {
   "cell_type": "code",
   "execution_count": 483,
   "metadata": {},
   "outputs": [
    {
     "name": "stdout",
     "output_type": "stream",
     "text": [
      "Converged in 22 iteration(s)\n"
     ]
    }
   ],
   "source": [
    "tk, cos, c, H = gltd.decompose(tensor, rank)"
   ]
  },
  {
   "cell_type": "code",
   "execution_count": 484,
   "metadata": {},
   "outputs": [
    {
     "data": {
      "text/plain": [
       "4.7181619482926214e+17"
      ]
     },
     "execution_count": 484,
     "metadata": {},
     "output_type": "execute_result"
    }
   ],
   "source": [
    "np.sort(np.linalg.eig(H)[0])[-1]"
   ]
  },
  {
   "cell_type": "code",
   "execution_count": 485,
   "metadata": {},
   "outputs": [
    {
     "data": {
      "text/plain": [
       "[2.1228238284668666e+17,\n",
       " 2.592687677117407e+16,\n",
       " 2.4097360741000464e+16,\n",
       " 2.40960181360348e+16,\n",
       " 2.4096017157667724e+16,\n",
       " 2.409601715695496e+16,\n",
       " 2.409601715695446e+16,\n",
       " 2.4096017156954396e+16,\n",
       " 2.409601715695446e+16,\n",
       " 2.4096017156954452e+16,\n",
       " 2.409601715695443e+16,\n",
       " 2.409601715695437e+16,\n",
       " 2.409601715695444e+16,\n",
       " 2.409601715695446e+16,\n",
       " 2.409601715695444e+16,\n",
       " 2.409601715695443e+16,\n",
       " 2.4096017156954412e+16,\n",
       " 2.4096017156954424e+16,\n",
       " 2.409601715695444e+16,\n",
       " 2.409601715695443e+16,\n",
       " 2.4096017156954412e+16,\n",
       " 2.4096017156954412e+16]"
      ]
     },
     "execution_count": 485,
     "metadata": {},
     "output_type": "execute_result"
    }
   ],
   "source": [
    "cos"
   ]
  },
  {
   "cell_type": "code",
   "execution_count": 486,
   "metadata": {},
   "outputs": [
    {
     "data": {
      "text/plain": [
       "[(2.1228238284668666e+17, 1.6157947682392917),\n",
       " (2.592687677117407e+16, 1.6157947685454481),\n",
       " (2.4097360741000464e+16, 1.6157947685913916),\n",
       " (2.40960181360348e+16, 1.6157947685930367),\n",
       " (2.4096017157667724e+16, 1.6157947685930787),\n",
       " (2.409601715695496e+16, 1.6157947685930822),\n",
       " (2.409601715695446e+16, 1.6157947685930816),\n",
       " (2.4096017156954396e+16, 1.615794768593081),\n",
       " (2.409601715695446e+16, 1.615794768593081),\n",
       " (2.4096017156954452e+16, 1.6157947685930818),\n",
       " (2.409601715695443e+16, 1.6157947685930805),\n",
       " (2.409601715695437e+16, 1.615794768593081),\n",
       " (2.409601715695444e+16, 1.6157947685930822),\n",
       " (2.409601715695446e+16, 1.615794768593083),\n",
       " (2.409601715695444e+16, 1.615794768593083),\n",
       " (2.409601715695443e+16, 1.615794768593081),\n",
       " (2.4096017156954412e+16, 1.6157947685930794),\n",
       " (2.4096017156954424e+16, 1.615794768593081),\n",
       " (2.409601715695444e+16, 1.615794768593083),\n",
       " (2.409601715695443e+16, 1.615794768593081),\n",
       " (2.4096017156954412e+16, 1.6157947685930818),\n",
       " (2.4096017156954412e+16, 1.61579476859308)]"
      ]
     },
     "execution_count": 486,
     "metadata": {},
     "output_type": "execute_result"
    }
   ],
   "source": [
    "c"
   ]
  },
  {
   "cell_type": "code",
   "execution_count": 487,
   "metadata": {},
   "outputs": [
    {
     "data": {
      "text/plain": [
       "<function matplotlib.pyplot.plot(*args, scalex=True, scaley=True, data=None, **kwargs)>"
      ]
     },
     "execution_count": 487,
     "metadata": {},
     "output_type": "execute_result"
    },
    {
     "data": {
      "image/png": "[encoded data removed]",
      "text/plain": [
       "<Figure size 432x288 with 1 Axes>"
      ]
     },
     "metadata": {},
     "output_type": "display_data"
    }
   ],
   "source": [
    "plt.plot(cos)\n",
    "plt.plot"
   ]
  },
  {
   "cell_type": "code",
   "execution_count": null,
   "metadata": {},
   "outputs": [],
   "source": []
  },
  {
   "cell_type": "code",
   "execution_count": null,
   "metadata": {},
   "outputs": [],
   "source": []
  },
  {
   "cell_type": "code",
   "execution_count": 229,
   "metadata": {},
   "outputs": [
    {
     "name": "stdout",
     "output_type": "stream",
     "text": [
      "Converged in 13 iteration(s)\n",
      "[1.279245601588905e+18, 1.2792456015888392e+18, 1.2792456015888394e+18, 1.2792456015888397e+18, 1.2792456015888392e+18, 1.2792456015888397e+18, 1.279245601588841e+18, 1.279245601588839e+18, 1.2792456015888404e+18, 1.2792456015888402e+18, 1.2792456015888394e+18, 1.2792456015888402e+18, 1.2792456015888402e+18]\n"
     ]
    },
    {
     "data": {
      "text/plain": [
       "array([[[ 4.09149791e+06,  6.80298483e+07],\n",
       "        [ 2.44780726e+01, -1.47215632e+00]],\n",
       "\n",
       "       [[ 1.79881531e+00, -1.08170072e-01],\n",
       "        [-3.06142626e+06, -5.09027184e+07]],\n",
       "\n",
       "       [[-1.62605855e+00,  9.76561037e-02],\n",
       "        [ 3.86046837e+02, -2.32178941e+01]],\n",
       "\n",
       "       [[-4.43915846e+01,  2.66982927e+00],\n",
       "        [-1.86979544e-01,  1.12438841e-02]]])"
      ]
     },
     "execution_count": 229,
     "metadata": {},
     "output_type": "execute_result"
    }
   ],
   "source": [
    "gltd.decompose(tensor, rank).core.data"
   ]
  },
  {
   "cell_type": "code",
   "execution_count": 203,
   "metadata": {},
   "outputs": [
    {
     "name": "stdout",
     "output_type": "stream",
     "text": [
      "Converged in 12 iteration(s)\n"
     ]
    },
    {
     "data": {
      "text/plain": [
       "array([[[ 5.49975042e+08, -7.83719547e-02],\n",
       "        [ 5.28451412e-06, -6.38147813e+01]],\n",
       "\n",
       "       [[ 3.92792657e-06, -1.01011245e+02],\n",
       "        [-4.11513849e+08, -1.04741766e-01]],\n",
       "\n",
       "       [[ 8.12649702e-05, -1.95236696e+00],\n",
       "        [ 3.01098435e-07,  7.00814432e+02]],\n",
       "\n",
       "       [[-5.81433270e-08, -1.51390307e+02],\n",
       "        [ 3.71148447e-05, -4.21753709e-01]]])"
      ]
     },
     "execution_count": 203,
     "metadata": {},
     "output_type": "execute_result"
    }
   ],
   "source": [
    "gltd.decompose(tensor, rank).core.data"
   ]
  },
  {
   "cell_type": "code",
   "execution_count": 160,
   "metadata": {},
   "outputs": [
    {
     "data": {
      "text/plain": [
       "array([[[ 5.49975042e+08,  7.83716998e-02],\n",
       "        [-3.70688848e-06, -6.38145873e+01]],\n",
       "\n",
       "       [[-1.88042602e-06, -1.01011016e+02],\n",
       "        [-4.11513849e+08,  1.04741302e-01]],\n",
       "\n",
       "       [[-8.12775520e-05, -1.95239447e+00],\n",
       "        [ 3.56661105e-07, -7.00814520e+02]],\n",
       "\n",
       "       [[-6.63454520e-08,  1.51390134e+02],\n",
       "        [-3.72452298e-05, -4.21862140e-01]]])"
      ]
     },
     "execution_count": 160,
     "metadata": {},
     "output_type": "execute_result"
    }
   ],
   "source": [
    "hooi.decompose(tensor, rank).core.data"
   ]
  },
  {
   "cell_type": "code",
   "execution_count": 161,
   "metadata": {},
   "outputs": [
    {
     "data": {
      "text/plain": [
       "array([[[ 5.49975042e+08, -1.02247397e-01],\n",
       "        [ 5.22708234e-06, -6.27444901e+01]],\n",
       "\n",
       "       [[-3.81078234e-06,  1.00136596e+02],\n",
       "        [ 4.11513849e+08,  8.57405164e-02]],\n",
       "\n",
       "       [[ 3.69517018e-07, -9.22532181e+01],\n",
       "        [-1.16908266e-04,  1.97331261e+00]],\n",
       "\n",
       "       [[-1.29827504e-04,  1.68709272e+00],\n",
       "        [-2.22829382e-08, -6.97203557e+02]]])"
      ]
     },
     "execution_count": 161,
     "metadata": {},
     "output_type": "execute_result"
    }
   ],
   "source": [
    "hosvd.decompose(tensor, rank).core.data"
   ]
  },
  {
   "cell_type": "code",
   "execution_count": 157,
   "metadata": {},
   "outputs": [
    {
     "name": "stdout",
     "output_type": "stream",
     "text": [
      "Converged in 8 iteration(s)\n"
     ]
    },
    {
     "data": {
      "text/plain": [
       "array([[[ 5.49975042e+08, -7.83719545e-02],\n",
       "        [ 5.27528045e-06, -6.38145285e+01]],\n",
       "\n",
       "       [[ 3.92043275e-06, -1.01011049e+02],\n",
       "        [-4.11513849e+08, -1.04741561e-01]],\n",
       "\n",
       "       [[ 8.14415179e-05, -1.95236751e+00],\n",
       "        [ 9.31932033e-06,  7.00814512e+02]],\n",
       "\n",
       "       [[ 6.36271857e-08, -1.51390174e+02],\n",
       "        [ 1.77766174e-03, -4.21748940e-01]]])"
      ]
     },
     "execution_count": 157,
     "metadata": {},
     "output_type": "execute_result"
    }
   ],
   "source": [
    "gltd.decompose(tensor, rank).core.data"
   ]
  },
  {
   "cell_type": "code",
   "execution_count": null,
   "metadata": {},
   "outputs": [],
   "source": []
  },
  {
   "cell_type": "code",
   "execution_count": 163,
   "metadata": {},
   "outputs": [
    {
     "data": {
      "text/plain": [
       "matrix([[ 1.82709865, -0.69336696, -0.41459595, -0.71913575],\n",
       "        [-0.69336696,  1.90161684, -0.49168562, -0.71656427],\n",
       "        [-0.41459595, -0.49168562,  1.4471879 , -0.54090633],\n",
       "        [-0.71913575, -0.71656427, -0.54090633,  1.97660634]])"
      ]
     },
     "execution_count": 163,
     "metadata": {},
     "output_type": "execute_result"
    }
   ],
   "source": [
    "L"
   ]
  },
  {
   "cell_type": "code",
   "execution_count": 165,
   "metadata": {},
   "outputs": [
    {
     "data": {
      "text/plain": [
       "array([2.67588429e+00, 2.56275235e+00, 1.91387309e+00, 1.39442363e-16])"
      ]
     },
     "execution_count": 165,
     "metadata": {},
     "output_type": "execute_result"
    }
   ],
   "source": [
    "np.linalg.svd(L)[1]"
   ]
  },
  {
   "cell_type": "code",
   "execution_count": 172,
   "metadata": {},
   "outputs": [
    {
     "data": {
      "text/plain": [
       "array([2.22044605e-16, 1.91387309e+00, 2.56275235e+00, 2.67588429e+00])"
      ]
     },
     "execution_count": 172,
     "metadata": {},
     "output_type": "execute_result"
    }
   ],
   "source": [
    "eig, _ = np.linalg.eig(L)\n",
    "eig"
   ]
  },
  {
   "cell_type": "code",
   "execution_count": 176,
   "metadata": {},
   "outputs": [
    {
     "data": {
      "text/plain": [
       "2.6758842944151615"
      ]
     },
     "execution_count": 176,
     "metadata": {},
     "output_type": "execute_result"
    }
   ],
   "source": [
    "np.sort(eig)[-1]"
   ]
  },
  {
   "cell_type": "code",
   "execution_count": null,
   "metadata": {},
   "outputs": [],
   "source": []
  },
  {
   "cell_type": "code",
   "execution_count": null,
   "metadata": {},
   "outputs": [],
   "source": []
  },
  {
   "cell_type": "code",
   "execution_count": null,
   "metadata": {},
   "outputs": [],
   "source": []
  },
  {
   "cell_type": "code",
   "execution_count": null,
   "metadata": {},
   "outputs": [],
   "source": []
  },
  {
   "cell_type": "code",
   "execution_count": null,
   "metadata": {},
   "outputs": [],
   "source": []
  },
  {
   "cell_type": "code",
   "execution_count": null,
   "metadata": {},
   "outputs": [],
   "source": []
  },
  {
   "cell_type": "code",
   "execution_count": null,
   "metadata": {},
   "outputs": [],
   "source": []
  },
  {
   "cell_type": "code",
   "execution_count": 391,
   "metadata": {},
   "outputs": [],
   "source": [
    "def init_fmat(tensor, rank):\n",
    "    \"\"\" Initialisation of factor matrices\n",
    "\n",
    "    Parameters\n",
    "    ----------\n",
    "    tensor : Tensor\n",
    "        Multidimensional data to be decomposed\n",
    "    rank : tuple\n",
    "        Desired multilinear rank for the given `tensor`\n",
    "\n",
    "    Returns\n",
    "    -------\n",
    "    fmat : list[np.ndarray]\n",
    "        List of factor matrices\n",
    "    \"\"\"\n",
    "    hosvd = HOSVD()\n",
    "    tensor_hosvd = hosvd.decompose(tensor, rank)\n",
    "    fmat = tensor_hosvd.fmat\n",
    "    \n",
    "    #init fmat as the identity matrix\n",
    "    fmat[0] = np.identity(tensor.shape[0])[:,:rank[0]]\n",
    "    fmat[1] = np.identity(tensor.shape[1])[:,:rank[1]]\n",
    "    fmat[2] = np.identity(tensor.shape[2])[:,:rank[2]]\n",
    "        \n",
    "    return fmat"
   ]
  },
  {
   "cell_type": "code",
   "execution_count": 377,
   "metadata": {},
   "outputs": [
    {
     "name": "stdout",
     "output_type": "stream",
     "text": [
      "This tensor is of order 3 and consists of 96 elements.\n",
      "Sizes and names of its modes are (8, 3, 4) and ['Metrics', 'Asset', 'Sector'] respectively. \n",
      "\n",
      "(4, 2, 2)\n"
     ]
    }
   ],
   "source": [
    "tensor = X[0]\n",
    "rank = (4,2,2)\n",
    "print(tensor, '\\n')\n",
    "print(rank)\n",
    "\n",
    "epsilon = 1e-2\n",
    "tol = 1e-4\n",
    "max_iter = 50"
   ]
  },
  {
   "cell_type": "code",
   "execution_count": 388,
   "metadata": {},
   "outputs": [
    {
     "name": "stdout",
     "output_type": "stream",
     "text": [
      "Converged in 2 iteration(s)\n"
     ]
    },
    {
     "data": {
      "text/plain": [
       "[0.10470882760445628, 0.10470882760445628]"
      ]
     },
     "execution_count": 388,
     "metadata": {},
     "output_type": "execute_result"
    }
   ],
   "source": [
    "cost = []\n",
    "\n",
    "tensor_tkd = None\n",
    "fmat_gltd = init_fmat(tensor, rank)\n",
    "norm = tensor.frob_norm\n",
    "for n_iter in range(max_iter):\n",
    "    \n",
    "    # Update factor matrices\n",
    "    # step 1\n",
    "    V, W = fmat_gltd[1], fmat_gltd[2]\n",
    "    VVT = np.dot(V, V.T)\n",
    "    WWT = np.dot(W, W.T)\n",
    "\n",
    "    A = tensor.mode_n_product(VVT, mode=1, inplace=False)\n",
    "    B = tensor.mode_n_product(WWT, mode=2, inplace=False)\n",
    "\n",
    "    n = tensor.shape[0]\n",
    "    F = np.zeros((n,n))\n",
    "\n",
    "    for i in range(n):\n",
    "        for j in range(n):\n",
    "            F[i,j] = np.trace(np.dot(A[i,:,:].T, B[j,:,:]))\n",
    "\n",
    "    U, _, _ = scipy.linalg.svd(F)\n",
    "    U = U[:,:rank[0]]\n",
    "    fmat_gltd[0] = U\n",
    "\n",
    "    # step 2\n",
    "    U, W = fmat_gltd[0], fmat_gltd[2]\n",
    "    UUT = np.dot(U, U.T)\n",
    "    WWT = np.dot(W, W.T)\n",
    "\n",
    "    A = tensor.mode_n_product(UUT, mode=0, inplace=False)\n",
    "    B = tensor.mode_n_product(WWT, mode=2, inplace=False)\n",
    "\n",
    "    n = tensor.shape[1]\n",
    "    G = np.zeros((n,n))\n",
    "\n",
    "    for i in range(n):\n",
    "        for j in range(n):\n",
    "            G[i,j] = np.trace(np.dot(A[:,i,:].T, B[:,j,:]))\n",
    "\n",
    "    V, _, _ = scipy.linalg.svd(G)\n",
    "    V = V[:,:rank[1]]\n",
    "    fmat_gltd[1] = V\n",
    "\n",
    "    # step 3\n",
    "    U, V = fmat_gltd[0], fmat_gltd[1]\n",
    "    UUT = np.dot(U, U.T)\n",
    "    VVT = np.dot(V, V.T)\n",
    "\n",
    "    A = tensor.mode_n_product(UUT, mode=0, inplace=False)\n",
    "    B = tensor.mode_n_product(VVT, mode=1, inplace=False)\n",
    "\n",
    "    n = tensor.shape[2]\n",
    "    H = np.zeros((n,n))\n",
    "\n",
    "    for i in range(n):\n",
    "        for j in range(n):\n",
    "            H[i,j] = np.trace(np.dot(A[:,:,i].T, B[:,:,j]))\n",
    "\n",
    "    # add regularization here\n",
    "    W, _, _ = scipy.linalg.svd(H)\n",
    "    W = W[:,:rank[2]]\n",
    "    fmat_gltd[2] = W\n",
    "\n",
    "\n",
    "    # Update core\n",
    "    core = tensor.copy()\n",
    "    for mode, fmat in enumerate(fmat_gltd):\n",
    "        core.mode_n_product(fmat.T, mode=mode)\n",
    "\n",
    "\n",
    "    # Update cost\n",
    "    tensor_tkd = TensorTKD(fmat=fmat_gltd, core_values=core.data)\n",
    "    residual = residual_tensor(tensor, tensor_tkd)\n",
    "    cost.append(abs(residual.frob_norm / norm))\n",
    "\n",
    "    # Check termination conditions\n",
    "    if cost[-1] <= epsilon:\n",
    "        print('Relative error of approximation has reached the acceptable level: {}'.format(cost[-1]))\n",
    "        break\n",
    "    if len(cost) >= 2 and abs(cost[-2] - cost[-1]) <= tol:\n",
    "        print('Converged in {} iteration(s)'.format(len(cost)))\n",
    "        break\n",
    "\n",
    "    \n",
    "    \n",
    "cost"
   ]
  },
  {
   "cell_type": "code",
   "execution_count": null,
   "metadata": {},
   "outputs": [],
   "source": []
  },
  {
   "cell_type": "code",
   "execution_count": null,
   "metadata": {},
   "outputs": [],
   "source": []
  },
  {
   "cell_type": "code",
   "execution_count": null,
   "metadata": {},
   "outputs": [],
   "source": []
  },
  {
   "cell_type": "code",
   "execution_count": null,
   "metadata": {},
   "outputs": [],
   "source": []
  },
  {
   "cell_type": "code",
   "execution_count": null,
   "metadata": {},
   "outputs": [],
   "source": []
  },
  {
   "cell_type": "code",
   "execution_count": 357,
   "metadata": {},
   "outputs": [
    {
     "data": {
      "text/plain": [
       "72320872.24434079"
      ]
     },
     "execution_count": 357,
     "metadata": {},
     "output_type": "execute_result"
    }
   ],
   "source": [
    "residual_tensor(tensor, tensor_tkd).frob_norm"
   ]
  },
  {
   "cell_type": "code",
   "execution_count": 358,
   "metadata": {},
   "outputs": [
    {
     "data": {
      "text/plain": [
       "72320872.24434078"
      ]
     },
     "execution_count": 358,
     "metadata": {},
     "output_type": "execute_result"
    }
   ],
   "source": [
    "residual_tensor(tensor, t_tkd).frob_norm"
   ]
  },
  {
   "cell_type": "code",
   "execution_count": 359,
   "metadata": {},
   "outputs": [
    {
     "data": {
      "text/plain": [
       "72320872.24447744"
      ]
     },
     "execution_count": 359,
     "metadata": {},
     "output_type": "execute_result"
    }
   ],
   "source": [
    "residual_tensor(tensor, t_tkd_h).frob_norm"
   ]
  },
  {
   "cell_type": "code",
   "execution_count": null,
   "metadata": {},
   "outputs": [],
   "source": []
  },
  {
   "cell_type": "code",
   "execution_count": null,
   "metadata": {},
   "outputs": [],
   "source": []
  },
  {
   "cell_type": "code",
   "execution_count": 288,
   "metadata": {},
   "outputs": [
    {
     "data": {
      "text/plain": [
       "(8, 8)"
      ]
     },
     "execution_count": 288,
     "metadata": {},
     "output_type": "execute_result"
    }
   ],
   "source": [
    "F.shape"
   ]
  },
  {
   "cell_type": "code",
   "execution_count": 342,
   "metadata": {},
   "outputs": [
    {
     "data": {
      "text/plain": [
       "Tucker representation of a tensor with multi-linear rank=(4, 2, 2).\n",
       "Factor matrices represent properties: ['mode-0', 'mode-1', 'mode-2']\n",
       "With corresponding latent components described by (8, 3, 4) features respectively."
      ]
     },
     "execution_count": 342,
     "metadata": {},
     "output_type": "execute_result"
    }
   ],
   "source": [
    "tensor_tkd"
   ]
  },
  {
   "cell_type": "code",
   "execution_count": null,
   "metadata": {},
   "outputs": [],
   "source": []
  },
  {
   "cell_type": "code",
   "execution_count": 291,
   "metadata": {},
   "outputs": [
    {
     "data": {
      "text/plain": [
       "(8, 8)"
      ]
     },
     "execution_count": 291,
     "metadata": {},
     "output_type": "execute_result"
    }
   ],
   "source": [
    "scipy.linalg.svd(F)[0].shape"
   ]
  },
  {
   "cell_type": "code",
   "execution_count": null,
   "metadata": {},
   "outputs": [],
   "source": []
  },
  {
   "cell_type": "code",
   "execution_count": 274,
   "metadata": {},
   "outputs": [
    {
     "data": {
      "text/plain": [
       "array([[-1.17136473e-07,  9.93837081e-01, -1.10850602e-01],\n",
       "       [-1.00000000e+00, -1.13942772e-07,  3.51456966e-08],\n",
       "       [ 2.22984717e-08,  1.10850602e-01,  9.93837081e-01]])"
      ]
     },
     "execution_count": 274,
     "metadata": {},
     "output_type": "execute_result"
    }
   ],
   "source": [
    "scipy.linalg.svd(G)[0]"
   ]
  },
  {
   "cell_type": "code",
   "execution_count": null,
   "metadata": {},
   "outputs": [],
   "source": []
  },
  {
   "cell_type": "code",
   "execution_count": 278,
   "metadata": {},
   "outputs": [
    {
     "data": {
      "text/plain": [
       "array([[-1.17136473e-07,  9.93837081e-01, -1.10850602e-01],\n",
       "       [-1.00000000e+00, -1.13942772e-07,  3.51456965e-08],\n",
       "       [ 2.22984719e-08,  1.10850602e-01,  9.93837081e-01]])"
      ]
     },
     "execution_count": 278,
     "metadata": {},
     "output_type": "execute_result"
    }
   ],
   "source": [
    "V"
   ]
  },
  {
   "cell_type": "code",
   "execution_count": 265,
   "metadata": {},
   "outputs": [
    {
     "data": {
      "text/plain": [
       "array([[ 6.03663755e-05,  8.82221258e-09, -4.97554822e-08,\n",
       "         9.13756871e-01],\n",
       "       [ 4.73555882e-08,  7.54413645e-03, -9.16818248e-01,\n",
       "         3.26887303e-04],\n",
       "       [-6.23846491e-03,  4.08884493e-08, -1.62614091e-07,\n",
       "         3.94563314e-01],\n",
       "       [ 1.39350806e-07,  4.03600756e-02, -2.07622652e-01,\n",
       "        -3.30388983e-04],\n",
       "       [ 9.17685279e-02,  1.56400633e-07, -7.98462963e-07,\n",
       "         9.65684433e-02],\n",
       "       [ 1.36875144e-07,  9.73878560e-01, -6.12382906e-02,\n",
       "        -1.41046323e-04],\n",
       "       [-9.95760822e-01,  1.83118055e-07, -1.09944217e-07,\n",
       "         6.48311781e-03],\n",
       "       [ 1.29686582e-07,  2.23326442e-01,  3.35539873e-01,\n",
       "         6.63557552e-04]])"
      ]
     },
     "execution_count": 265,
     "metadata": {},
     "output_type": "execute_result"
    }
   ],
   "source": [
    "fmat_gltd[0]"
   ]
  },
  {
   "cell_type": "code",
   "execution_count": 251,
   "metadata": {},
   "outputs": [
    {
     "data": {
      "text/plain": [
       "array([[-6.03663756e-05, -8.82221310e-09, -8.65786496e-01,\n",
       "        -1.06479978e-03],\n",
       "       [-4.73555884e-08, -7.54413645e-03, -3.45310840e-03,\n",
       "        -6.70906778e-01],\n",
       "       [ 6.23846491e-03, -4.08884497e-08, -4.86803635e-01,\n",
       "         6.33253871e-03],\n",
       "       [-1.39350806e-07, -4.03600756e-02, -5.23053034e-04,\n",
       "        -6.27625824e-01],\n",
       "       [-9.17685279e-02, -1.56400633e-07, -1.15607363e-01,\n",
       "         5.10166879e-03],\n",
       "       [-1.36875144e-07, -9.73878560e-01,  1.07068713e-04,\n",
       "         1.17639972e-01],\n",
       "       [ 9.95760822e-01, -1.83118054e-07, -7.65693390e-03,\n",
       "         4.30275039e-04],\n",
       "       [-1.29686582e-07, -2.23326442e-01, -2.55517065e-04,\n",
       "        -3.76912868e-01]])"
      ]
     },
     "execution_count": 251,
     "metadata": {},
     "output_type": "execute_result"
    }
   ],
   "source": [
    "fmat_gltd[0]"
   ]
  },
  {
   "cell_type": "code",
   "execution_count": 255,
   "metadata": {},
   "outputs": [
    {
     "name": "stderr",
     "output_type": "stream",
     "text": [
      "/Users/atayardimci/opt/anaconda3/envs/GR-TEL/lib/python3.6/site-packages/ipykernel_launcher.py:36: RuntimeWarning: invalid value encountered in sqrt\n"
     ]
    },
    {
     "data": {
      "text/plain": [
       "array([[ 6.03663756e-05,  8.82221310e-09,  9.38228903e-05,\n",
       "                    nan],\n",
       "       [ 4.73555884e-08,  7.54413645e-03, -1.84989146e-06,\n",
       "                    nan],\n",
       "       [-6.23846491e-03,  4.08884497e-08,  5.27768452e-05,\n",
       "                    nan],\n",
       "       [ 1.39350806e-07,  4.03600756e-02, -2.02413962e-06,\n",
       "                    nan],\n",
       "       [ 9.17685279e-02,  1.56400633e-07,  1.25407622e-05,\n",
       "                    nan],\n",
       "       [ 1.36875144e-07,  9.73878560e-01,  3.78336003e-07,\n",
       "                    nan],\n",
       "       [-9.95760822e-01,  1.83118055e-07,  8.82584676e-07,\n",
       "                    nan],\n",
       "       [ 1.29686582e-07,  2.23326442e-01, -1.22191321e-06,\n",
       "                    nan]])"
      ]
     },
     "execution_count": 255,
     "metadata": {},
     "output_type": "execute_result"
    }
   ],
   "source": [
    "svd(F,rank=rank[0])[0]"
   ]
  },
  {
   "cell_type": "code",
   "execution_count": null,
   "metadata": {},
   "outputs": [],
   "source": []
  },
  {
   "cell_type": "code",
   "execution_count": 233,
   "metadata": {},
   "outputs": [
    {
     "data": {
      "text/plain": [
       "array([3.02472547e+17, 1.69343648e+17, 4.91579082e+05, 2.27370468e+04,\n",
       "       5.95664469e+00, 6.61796679e-01, 8.42652149e-02, 1.65401897e-02])"
      ]
     },
     "execution_count": 233,
     "metadata": {},
     "output_type": "execute_result"
    }
   ],
   "source": [
    "scipy.linalg.svd(F)[1]"
   ]
  },
  {
   "cell_type": "code",
   "execution_count": 229,
   "metadata": {},
   "outputs": [
    {
     "data": {
      "text/plain": [
       "6.0366375560852976e-05"
      ]
     },
     "execution_count": 229,
     "metadata": {},
     "output_type": "execute_result"
    }
   ],
   "source": [
    "U[:,:3][0,0]"
   ]
  },
  {
   "cell_type": "code",
   "execution_count": 230,
   "metadata": {},
   "outputs": [
    {
     "data": {
      "text/plain": [
       "-6.036637556128266e-05"
      ]
     },
     "execution_count": 230,
     "metadata": {},
     "output_type": "execute_result"
    }
   ],
   "source": [
    "scipy.linalg.svd(F)[0][:,:3][0,0]"
   ]
  },
  {
   "cell_type": "code",
   "execution_count": 145,
   "metadata": {},
   "outputs": [
    {
     "data": {
      "text/plain": [
       "array([[ 2.29206220e+13,  5.28523891e+13,  1.62380896e+15,\n",
       "        -1.35377340e+15],\n",
       "       [ 5.28523891e+13,  2.87575958e+14,  6.56864784e+15,\n",
       "         3.03826548e+15],\n",
       "       [ 1.62380896e+15,  6.56864784e+15,  1.63177451e+17,\n",
       "         9.08399565e+15],\n",
       "       [-1.35377340e+15,  3.03826548e+15,  9.08399565e+15,\n",
       "         3.08948309e+17]])"
      ]
     },
     "execution_count": 145,
     "metadata": {},
     "output_type": "execute_result"
    }
   ],
   "source": [
    "\n",
    "fmat_gltd = init_fmat(tensor, rank)\n",
    "\n",
    "V, W = fmat_gltd[1], fmat_gltd[2]\n",
    "VVT = np.dot(V, V.T)\n",
    "WWT = np.dot(W, W.T)\n",
    "\n",
    "A = tensor.mode_n_product(VVT, mode=1, inplace=False)\n",
    "B = tensor.mode_n_product(WWT, mode=2, inplace=False)\n",
    "\n",
    "n = A.shape[0]\n",
    "F = np.zeros((n,n))\n",
    "\n",
    "for i in range(n):\n",
    "    for j in range(n):\n",
    "        F[i,j] = np.trace(np.dot(A[i,:,:].T, B[j,:,:]))\n",
    "\n",
    "F"
   ]
  },
  {
   "cell_type": "code",
   "execution_count": 151,
   "metadata": {},
   "outputs": [
    {
     "data": {
      "text/plain": [
       "array([[-0.00403559,  0.01047705],\n",
       "       [ 0.01112861,  0.03911767],\n",
       "       [ 0.06238781,  0.99720839],\n",
       "       [ 0.99798178, -0.06273331]])"
      ]
     },
     "execution_count": 151,
     "metadata": {},
     "output_type": "execute_result"
    }
   ],
   "source": [
    "svd(F, rank=2)[0]"
   ]
  },
  {
   "cell_type": "code",
   "execution_count": null,
   "metadata": {},
   "outputs": [],
   "source": []
  },
  {
   "cell_type": "code",
   "execution_count": 86,
   "metadata": {},
   "outputs": [
    {
     "data": {
      "text/plain": [
       "This tensor is of order 2 and consists of 32 elements.\n",
       "Sizes and names of its modes are (4, 8) and ['Sector', 'Asset_Metrics'] respectively."
      ]
     },
     "execution_count": 86,
     "metadata": {},
     "output_type": "execute_result"
    }
   ],
   "source": [
    "tensor_tkd = None\n",
    "fmat_gltd = init_fmat(tensor, rank)\n",
    "norm = tensor.frob_norm\n",
    "\n",
    "process = tuple(range(tensor.order))\n",
    "\n",
    "#------1------\n",
    "i = 0\n",
    "tensor_approx = tensor.copy()\n",
    "# for mode, fmat in enumerate(fmat_gltd):\n",
    "#     if mode == i:\n",
    "#         continue\n",
    "#     tensor_approx.mode_n_product()\n",
    "\n",
    "tensor_approx.mode_n_product(fmat_gltd[1].T, mode=1)\n",
    "tensor_approx.mode_n_product(fmat_gltd[2].T, mode=2)\n",
    "\n",
    "tensor_approx.unfold(0)    "
   ]
  },
  {
   "cell_type": "code",
   "execution_count": 87,
   "metadata": {},
   "outputs": [
    {
     "data": {
      "text/plain": [
       "This tensor is of order 3 and consists of 96 elements.\n",
       "Sizes and names of its modes are (4, 3, 8) and ['Sector', 'Asset', 'Metrics'] respectively."
      ]
     },
     "execution_count": 87,
     "metadata": {},
     "output_type": "execute_result"
    }
   ],
   "source": []
  },
  {
   "cell_type": "code",
   "execution_count": null,
   "metadata": {},
   "outputs": [],
   "source": []
  },
  {
   "cell_type": "code",
   "execution_count": null,
   "metadata": {},
   "outputs": [],
   "source": []
  },
  {
   "cell_type": "code",
   "execution_count": null,
   "metadata": {},
   "outputs": [],
   "source": []
  },
  {
   "cell_type": "code",
   "execution_count": 58,
   "metadata": {},
   "outputs": [],
   "source": [
    "from hottbox.algorithms.decomposition.tucker import BaseTucker\n"
   ]
  },
  {
   "cell_type": "code",
   "execution_count": null,
   "metadata": {},
   "outputs": [],
   "source": [
    "BaseTucker()"
   ]
  },
  {
   "cell_type": "code",
   "execution_count": null,
   "metadata": {},
   "outputs": [],
   "source": []
  },
  {
   "cell_type": "code",
   "execution_count": null,
   "metadata": {},
   "outputs": [],
   "source": [
    "def init_fmat(tensor, rank):\n",
    "    "
   ]
  },
  {
   "cell_type": "code",
   "execution_count": null,
   "metadata": {},
   "outputs": [],
   "source": []
  },
  {
   "cell_type": "code",
   "execution_count": null,
   "metadata": {},
   "outputs": [],
   "source": []
  },
  {
   "cell_type": "code",
   "execution_count": null,
   "metadata": {},
   "outputs": [],
   "source": []
  },
  {
   "cell_type": "code",
   "execution_count": null,
   "metadata": {},
   "outputs": [],
   "source": [
    "tensor_tkd = None\n",
    "fmat_gltd = init_fmat(tensor, rank)\n",
    "\n",
    "# for n_iter in range(50):\n",
    "    \n",
    "# Update factor matrices\n",
    "# step 1\n",
    "V, W = fmat_gltd[1], fmat_gltd[2]\n",
    "VVT = np.dot(V, V.T)\n",
    "WWT = np.dot(W, W.T)\n",
    "\n",
    "A = tensor.mode_n_product(VVT, mode=1, inplace=False)\n",
    "B = tensor.mode_n_product(WWT, mode=2, inplace=False)\n",
    "\n",
    "n = tensor.shape[0]\n",
    "F = np.zeros((n,n))\n",
    "\n",
    "for i in range(n):\n",
    "    for j in range(n):\n",
    "        F[i,j] = np.trace(np.dot(A[i,:,:].T, B[j,:,:]))\n",
    "\n",
    "U, _, _ = scipy.linalg.svd(F)\n",
    "U = U[:,:rank[0]]\n",
    "fmat_gltd[0] = U\n",
    "\n",
    "# step 2\n",
    "U, W = fmat_gltd[0], fmat_gltd[2]\n",
    "UUT = np.dot(U, U.T)\n",
    "WWT = np.dot(W, W.T)\n",
    "\n",
    "A = tensor.mode_n_product(UUT, mode=0, inplace=False)\n",
    "B = tensor.mode_n_product(WWT, mode=2, inplace=False)\n",
    "\n",
    "n = tensor.shape[1]\n",
    "G = np.zeros((n,n))\n",
    "\n",
    "for i in range(n):\n",
    "    for j in range(n):\n",
    "        G[i,j] = np.trace(np.dot(A[:,i,:].T, B[:,j,:]))\n",
    "\n",
    "V, _, _ = scipy.linalg.svd(G)\n",
    "V = V[:,:rank[1]]\n",
    "fmat_gltd[1] = V\n",
    "\n",
    "# step 3\n",
    "U, V = fmat_gltd[0], fmat_gltd[1]\n",
    "UUT = np.dot(U, U.T)\n",
    "VVT = np.dot(V, V.T)\n",
    "\n",
    "A = tensor.mode_n_product(UUT, mode=0, inplace=False)\n",
    "B = tensor.mode_n_product(VVT, mode=1, inplace=False)\n",
    "\n",
    "n = tensor.shape[2]\n",
    "H = np.zeros((n,n))\n",
    "\n",
    "for i in range(n):\n",
    "    for j in range(n):\n",
    "        H[i,j] = np.trace(np.dot(A[:,:,i].T, B[:,:,j]))\n",
    "\n",
    "# add regularization here\n",
    "W, _, _ = scipy.linalg.svd(H)\n",
    "W = W[:,:rank[2]]\n",
    "fmat_gltd[2] = W\n",
    "\n",
    "\n",
    "# Update core\n",
    "core = tensor.copy()\n",
    "for mode, fmat in enumerate(fmat_gltd):\n",
    "    core.mode_n_product(fmat.T, mode=mode)\n",
    "\n",
    "\n",
    "# Update cost\n",
    "tensor_tkd = TensorTKD(fmat=fmat_gltd, core_values=core.data)\n",
    "residual = residual_tensor(tensor, tensor_tkd)\n",
    "    \n",
    "    \n",
    "    \n",
    "residual"
   ]
  }
 ],
 "metadata": {
  "kernelspec": {
   "display_name": "Python 3",
   "language": "python",
   "name": "python3"
  },
  "language_info": {
   "codemirror_mode": {
    "name": "ipython",
    "version": 3
   },
   "file_extension": ".py",
   "mimetype": "text/x-python",
   "name": "python",
   "nbconvert_exporter": "python",
   "pygments_lexer": "ipython3",
   "version": "3.6.13"
  }
 },
 "nbformat": 4,
 "nbformat_minor": 4
}
