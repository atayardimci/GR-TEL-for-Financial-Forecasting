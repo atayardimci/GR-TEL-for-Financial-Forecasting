{
 "cells": [
  {
   "cell_type": "code",
   "execution_count": 19,
   "metadata": {},
   "outputs": [],
   "source": [
    "# Import libraries\n",
    "import numpy as np\n",
    "import pandas as pd\n",
    "from datetime import datetime\n",
    "import copy\n",
    "\n",
    "import networkx as nx\n",
    "\n",
    "import matplotlib.pyplot as plt\n",
    "%matplotlib inline\n",
    "plt.style.use('ggplot')\n",
    "\n",
    "# Set paths\n",
    "fig_path = './figures/'\n",
    "data_path = './data/'"
   ]
  },
  {
   "cell_type": "markdown",
   "metadata": {},
   "source": [
    "------------------------------------\n",
    "**Get the companies**\n",
    "------------------------------------"
   ]
  },
  {
   "cell_type": "code",
   "execution_count": 20,
   "metadata": {},
   "outputs": [],
   "source": [
    "# Read data\n",
    "\n",
    "mydateparser = lambda x: datetime.strptime(x, \"%Y-%m-%d\")\n",
    "snp = pd.read_csv(data_path+\"snp_allstocks_2015_2019.csv\", index_col='Date', parse_dates=True, date_parser=mydateparser)\n",
    "info = pd.read_csv(data_path+'snp_info.csv', index_col=0)\n",
    "\n",
    "# https://www.slickcharts.com/sp500\n",
    "# https://datahub.io/core/s-and-p-500-companies-financials\n",
    "detailed_info = pd.read_csv(data_path+'constituents-financials.csv', index_col=0)\n",
    "stocks_sorted = detailed_info.sort_values('Market Cap', ascending=False)['Sector']"
   ]
  },
  {
   "cell_type": "code",
   "execution_count": 3,
   "metadata": {},
   "outputs": [],
   "source": [
    "stocks_by_sector = {sector: [] for sector in info['GICS Sector'].unique()}\n",
    "\n",
    "for stock in stocks_sorted.index[:160]:\n",
    "    if stock in ['PCLN', 'TWX', 'AET', 'MON', 'PX', 'ESRX']:\n",
    "        continue\n",
    "    stock = 'BRK-B' if stock == 'BRK.B' else stock\n",
    "    \n",
    "    sector = info.set_index('Symbol').loc[stock]['GICS Sector']\n",
    "    stocks_by_sector[sector].append(stock)\n",
    "# stocks"
   ]
  },
  {
   "cell_type": "code",
   "execution_count": 4,
   "metadata": {},
   "outputs": [],
   "source": [
    "# Select top three stocks (by market cap) within each GICS Sector\n",
    "stocks = {}\n",
    "for sector in stocks_by_sector:\n",
    "    stocks[sector] = stocks_by_sector[sector][:3]"
   ]
  },
  {
   "cell_type": "code",
   "execution_count": 5,
   "metadata": {},
   "outputs": [
    {
     "data": {
      "text/plain": [
       "{'Communication Services': ['GOOGL', 'GOOG', 'FB'],\n",
       " 'Consumer Discretionary': ['AMZN', 'HD', 'MCD'],\n",
       " 'Financials': ['JPM', 'BAC', 'WFC'],\n",
       " 'Information Technology': ['AAPL', 'MSFT', 'V']}"
      ]
     },
     "execution_count": 5,
     "metadata": {},
     "output_type": "execute_result"
    }
   ],
   "source": [
    "# use a subset of stocks instead for easy understanding\n",
    "# order them alphabetically\n",
    "tmp = {}\n",
    "tmp['Communication Services'] = stocks['Communication Services']\n",
    "tmp['Consumer Discretionary'] = stocks['Consumer Discretionary']\n",
    "tmp['Financials'] = stocks['Financials']\n",
    "tmp['Information Technology'] = stocks['Information Technology']\n",
    "\n",
    "stocks = tmp\n",
    "stocks"
   ]
  },
  {
   "cell_type": "markdown",
   "metadata": {},
   "source": [
    "------------------------------------\n",
    "**Get the data**\n",
    "------------------------------------\n",
    "- Standardize individual asset names (e.g. asset_1)"
   ]
  },
  {
   "cell_type": "code",
   "execution_count": 6,
   "metadata": {},
   "outputs": [],
   "source": [
    "sector_col = []\n",
    "stock_col = []\n",
    "for sector in stocks:\n",
    "    for i, stock in enumerate(stocks[sector]):\n",
    "        stock_name = 'asset_' + str(i+1)\n",
    "        sector_col.append(sector)\n",
    "        stock_col.append(stock_name)\n",
    "\n",
    "df = pd.DataFrame(columns=[sector_col, stock_col], index=snp.index)\n",
    "df.columns.names = ['Sector', 'Asset']\n",
    "# df.head()"
   ]
  },
  {
   "cell_type": "code",
   "execution_count": 7,
   "metadata": {},
   "outputs": [
    {
     "data": {
      "text/html": [
       "<div>\n",
       "<style scoped>\n",
       "    .dataframe tbody tr th:only-of-type {\n",
       "        vertical-align: middle;\n",
       "    }\n",
       "\n",
       "    .dataframe tbody tr th {\n",
       "        vertical-align: top;\n",
       "    }\n",
       "\n",
       "    .dataframe thead tr th {\n",
       "        text-align: left;\n",
       "    }\n",
       "\n",
       "    .dataframe thead tr:last-of-type th {\n",
       "        text-align: right;\n",
       "    }\n",
       "</style>\n",
       "<table border=\"1\" class=\"dataframe\">\n",
       "  <thead>\n",
       "    <tr>\n",
       "      <th>Sector</th>\n",
       "      <th colspan=\"3\" halign=\"left\">Communication Services</th>\n",
       "      <th colspan=\"3\" halign=\"left\">Consumer Discretionary</th>\n",
       "      <th colspan=\"3\" halign=\"left\">Financials</th>\n",
       "      <th colspan=\"3\" halign=\"left\">Information Technology</th>\n",
       "    </tr>\n",
       "    <tr>\n",
       "      <th>Asset</th>\n",
       "      <th>asset_1</th>\n",
       "      <th>asset_2</th>\n",
       "      <th>asset_3</th>\n",
       "      <th>asset_1</th>\n",
       "      <th>asset_2</th>\n",
       "      <th>asset_3</th>\n",
       "      <th>asset_1</th>\n",
       "      <th>asset_2</th>\n",
       "      <th>asset_3</th>\n",
       "      <th>asset_1</th>\n",
       "      <th>asset_2</th>\n",
       "      <th>asset_3</th>\n",
       "    </tr>\n",
       "    <tr>\n",
       "      <th>Date</th>\n",
       "      <th></th>\n",
       "      <th></th>\n",
       "      <th></th>\n",
       "      <th></th>\n",
       "      <th></th>\n",
       "      <th></th>\n",
       "      <th></th>\n",
       "      <th></th>\n",
       "      <th></th>\n",
       "      <th></th>\n",
       "      <th></th>\n",
       "      <th></th>\n",
       "    </tr>\n",
       "  </thead>\n",
       "  <tbody>\n",
       "    <tr>\n",
       "      <th>2015-01-02</th>\n",
       "      <td>529.549988</td>\n",
       "      <td>521.937744</td>\n",
       "      <td>78.449997</td>\n",
       "      <td>308.519989</td>\n",
       "      <td>103.430000</td>\n",
       "      <td>93.260002</td>\n",
       "      <td>62.490002</td>\n",
       "      <td>17.900000</td>\n",
       "      <td>54.700001</td>\n",
       "      <td>109.330002</td>\n",
       "      <td>46.759998</td>\n",
       "      <td>66.254997</td>\n",
       "    </tr>\n",
       "    <tr>\n",
       "      <th>2015-01-05</th>\n",
       "      <td>519.460022</td>\n",
       "      <td>511.057617</td>\n",
       "      <td>77.190002</td>\n",
       "      <td>302.190002</td>\n",
       "      <td>101.260002</td>\n",
       "      <td>92.230003</td>\n",
       "      <td>60.549999</td>\n",
       "      <td>17.379999</td>\n",
       "      <td>53.200001</td>\n",
       "      <td>106.250000</td>\n",
       "      <td>46.330002</td>\n",
       "      <td>64.792503</td>\n",
       "    </tr>\n",
       "    <tr>\n",
       "      <th>2015-01-06</th>\n",
       "      <td>506.640015</td>\n",
       "      <td>499.212799</td>\n",
       "      <td>76.150002</td>\n",
       "      <td>295.290009</td>\n",
       "      <td>100.949997</td>\n",
       "      <td>92.400002</td>\n",
       "      <td>58.980000</td>\n",
       "      <td>16.860001</td>\n",
       "      <td>52.090000</td>\n",
       "      <td>106.260002</td>\n",
       "      <td>45.650002</td>\n",
       "      <td>64.375000</td>\n",
       "    </tr>\n",
       "    <tr>\n",
       "      <th>2015-01-07</th>\n",
       "      <td>505.149994</td>\n",
       "      <td>498.357513</td>\n",
       "      <td>76.150002</td>\n",
       "      <td>298.420013</td>\n",
       "      <td>104.410004</td>\n",
       "      <td>94.010002</td>\n",
       "      <td>59.070000</td>\n",
       "      <td>16.940001</td>\n",
       "      <td>52.400002</td>\n",
       "      <td>107.750000</td>\n",
       "      <td>46.230000</td>\n",
       "      <td>65.237503</td>\n",
       "    </tr>\n",
       "    <tr>\n",
       "      <th>2015-01-08</th>\n",
       "      <td>506.910004</td>\n",
       "      <td>499.928864</td>\n",
       "      <td>78.180000</td>\n",
       "      <td>300.459991</td>\n",
       "      <td>106.720001</td>\n",
       "      <td>94.360001</td>\n",
       "      <td>60.389999</td>\n",
       "      <td>17.290001</td>\n",
       "      <td>53.560001</td>\n",
       "      <td>111.889999</td>\n",
       "      <td>47.590000</td>\n",
       "      <td>66.112503</td>\n",
       "    </tr>\n",
       "    <tr>\n",
       "      <th>...</th>\n",
       "      <td>...</td>\n",
       "      <td>...</td>\n",
       "      <td>...</td>\n",
       "      <td>...</td>\n",
       "      <td>...</td>\n",
       "      <td>...</td>\n",
       "      <td>...</td>\n",
       "      <td>...</td>\n",
       "      <td>...</td>\n",
       "      <td>...</td>\n",
       "      <td>...</td>\n",
       "      <td>...</td>\n",
       "    </tr>\n",
       "    <tr>\n",
       "      <th>2018-12-24</th>\n",
       "      <td>984.669983</td>\n",
       "      <td>976.219971</td>\n",
       "      <td>124.059998</td>\n",
       "      <td>1343.959961</td>\n",
       "      <td>158.139999</td>\n",
       "      <td>170.279999</td>\n",
       "      <td>92.139999</td>\n",
       "      <td>22.730000</td>\n",
       "      <td>43.599998</td>\n",
       "      <td>146.830002</td>\n",
       "      <td>94.129997</td>\n",
       "      <td>121.730003</td>\n",
       "    </tr>\n",
       "    <tr>\n",
       "      <th>2018-12-26</th>\n",
       "      <td>1047.849976</td>\n",
       "      <td>1039.459961</td>\n",
       "      <td>134.179993</td>\n",
       "      <td>1470.900024</td>\n",
       "      <td>168.279999</td>\n",
       "      <td>174.029999</td>\n",
       "      <td>95.959999</td>\n",
       "      <td>24.110001</td>\n",
       "      <td>45.590000</td>\n",
       "      <td>157.169998</td>\n",
       "      <td>100.559998</td>\n",
       "      <td>130.229996</td>\n",
       "    </tr>\n",
       "    <tr>\n",
       "      <th>2018-12-27</th>\n",
       "      <td>1052.900024</td>\n",
       "      <td>1043.880005</td>\n",
       "      <td>134.520004</td>\n",
       "      <td>1461.640015</td>\n",
       "      <td>170.320007</td>\n",
       "      <td>175.710007</td>\n",
       "      <td>97.040001</td>\n",
       "      <td>24.370001</td>\n",
       "      <td>45.529999</td>\n",
       "      <td>156.149994</td>\n",
       "      <td>101.180000</td>\n",
       "      <td>132.009995</td>\n",
       "    </tr>\n",
       "    <tr>\n",
       "      <th>2018-12-28</th>\n",
       "      <td>1046.680054</td>\n",
       "      <td>1037.079956</td>\n",
       "      <td>133.199997</td>\n",
       "      <td>1478.020020</td>\n",
       "      <td>170.220001</td>\n",
       "      <td>175.559998</td>\n",
       "      <td>96.830002</td>\n",
       "      <td>24.389999</td>\n",
       "      <td>45.779999</td>\n",
       "      <td>156.229996</td>\n",
       "      <td>100.389999</td>\n",
       "      <td>130.940002</td>\n",
       "    </tr>\n",
       "    <tr>\n",
       "      <th>2018-12-31</th>\n",
       "      <td>1044.959961</td>\n",
       "      <td>1035.609985</td>\n",
       "      <td>131.089996</td>\n",
       "      <td>1501.969971</td>\n",
       "      <td>171.820007</td>\n",
       "      <td>177.570007</td>\n",
       "      <td>97.620003</td>\n",
       "      <td>24.639999</td>\n",
       "      <td>46.080002</td>\n",
       "      <td>157.740005</td>\n",
       "      <td>101.570000</td>\n",
       "      <td>131.940002</td>\n",
       "    </tr>\n",
       "  </tbody>\n",
       "</table>\n",
       "<p>1006 rows × 12 columns</p>\n",
       "</div>"
      ],
      "text/plain": [
       "Sector     Communication Services                           \\\n",
       "Asset                     asset_1      asset_2     asset_3   \n",
       "Date                                                         \n",
       "2015-01-02             529.549988   521.937744   78.449997   \n",
       "2015-01-05             519.460022   511.057617   77.190002   \n",
       "2015-01-06             506.640015   499.212799   76.150002   \n",
       "2015-01-07             505.149994   498.357513   76.150002   \n",
       "2015-01-08             506.910004   499.928864   78.180000   \n",
       "...                           ...          ...         ...   \n",
       "2018-12-24             984.669983   976.219971  124.059998   \n",
       "2018-12-26            1047.849976  1039.459961  134.179993   \n",
       "2018-12-27            1052.900024  1043.880005  134.520004   \n",
       "2018-12-28            1046.680054  1037.079956  133.199997   \n",
       "2018-12-31            1044.959961  1035.609985  131.089996   \n",
       "\n",
       "Sector     Consumer Discretionary                         Financials  \\\n",
       "Asset                     asset_1     asset_2     asset_3    asset_1   \n",
       "Date                                                                   \n",
       "2015-01-02             308.519989  103.430000   93.260002  62.490002   \n",
       "2015-01-05             302.190002  101.260002   92.230003  60.549999   \n",
       "2015-01-06             295.290009  100.949997   92.400002  58.980000   \n",
       "2015-01-07             298.420013  104.410004   94.010002  59.070000   \n",
       "2015-01-08             300.459991  106.720001   94.360001  60.389999   \n",
       "...                           ...         ...         ...        ...   \n",
       "2018-12-24            1343.959961  158.139999  170.279999  92.139999   \n",
       "2018-12-26            1470.900024  168.279999  174.029999  95.959999   \n",
       "2018-12-27            1461.640015  170.320007  175.710007  97.040001   \n",
       "2018-12-28            1478.020020  170.220001  175.559998  96.830002   \n",
       "2018-12-31            1501.969971  171.820007  177.570007  97.620003   \n",
       "\n",
       "Sector                           Information Technology              \\\n",
       "Asset         asset_2    asset_3                asset_1     asset_2   \n",
       "Date                                                                  \n",
       "2015-01-02  17.900000  54.700001             109.330002   46.759998   \n",
       "2015-01-05  17.379999  53.200001             106.250000   46.330002   \n",
       "2015-01-06  16.860001  52.090000             106.260002   45.650002   \n",
       "2015-01-07  16.940001  52.400002             107.750000   46.230000   \n",
       "2015-01-08  17.290001  53.560001             111.889999   47.590000   \n",
       "...               ...        ...                    ...         ...   \n",
       "2018-12-24  22.730000  43.599998             146.830002   94.129997   \n",
       "2018-12-26  24.110001  45.590000             157.169998  100.559998   \n",
       "2018-12-27  24.370001  45.529999             156.149994  101.180000   \n",
       "2018-12-28  24.389999  45.779999             156.229996  100.389999   \n",
       "2018-12-31  24.639999  46.080002             157.740005  101.570000   \n",
       "\n",
       "Sector                  \n",
       "Asset          asset_3  \n",
       "Date                    \n",
       "2015-01-02   66.254997  \n",
       "2015-01-05   64.792503  \n",
       "2015-01-06   64.375000  \n",
       "2015-01-07   65.237503  \n",
       "2015-01-08   66.112503  \n",
       "...                ...  \n",
       "2018-12-24  121.730003  \n",
       "2018-12-26  130.229996  \n",
       "2018-12-27  132.009995  \n",
       "2018-12-28  130.940002  \n",
       "2018-12-31  131.940002  \n",
       "\n",
       "[1006 rows x 12 columns]"
      ]
     },
     "execution_count": 7,
     "metadata": {},
     "output_type": "execute_result"
    }
   ],
   "source": [
    "for sector in stocks:\n",
    "    for i, stock in enumerate(stocks[sector]):\n",
    "        stock_name = 'asset_' + str(i+1)\n",
    "        df.loc[:,(sector, stock_name)] = snp[stock]\n",
    "df"
   ]
  },
  {
   "cell_type": "markdown",
   "metadata": {},
   "source": [
    "------------------------------------\n",
    "**Represent DataFrame as one column Multi-index data**\n",
    "------------------------------------"
   ]
  },
  {
   "cell_type": "code",
   "execution_count": 8,
   "metadata": {},
   "outputs": [
    {
     "data": {
      "text/plain": [
       "Date        Sector                  Asset  \n",
       "2015-01-02  Communication Services  asset_1    529.549988\n",
       "                                    asset_2    521.937744\n",
       "                                    asset_3     78.449997\n",
       "            Consumer Discretionary  asset_1    308.519989\n",
       "                                    asset_2    103.430000\n",
       "                                                  ...    \n",
       "2018-12-31  Financials              asset_2     24.639999\n",
       "                                    asset_3     46.080002\n",
       "            Information Technology  asset_1    157.740005\n",
       "                                    asset_2    101.570000\n",
       "                                    asset_3    131.940002\n",
       "Length: 12072, dtype: float64"
      ]
     },
     "execution_count": 8,
     "metadata": {},
     "output_type": "execute_result"
    }
   ],
   "source": [
    "df_tensor = df.stack([0, 1])\n",
    "df_tensor"
   ]
  },
  {
   "cell_type": "code",
   "execution_count": 9,
   "metadata": {},
   "outputs": [],
   "source": [
    "# DON'T RUN -- for visualization and help\n",
    "# df_tensor.reorder_levels([1,2,0])[:30]\n",
    "# df_tensor.reorder_levels([1,2,0])['Information Technology']['asset_1']"
   ]
  },
  {
   "cell_type": "markdown",
   "metadata": {},
   "source": [
    "------------------------------------\n",
    "**Tensorize the data**\n",
    "------------------------------------"
   ]
  },
  {
   "cell_type": "code",
   "execution_count": 10,
   "metadata": {},
   "outputs": [],
   "source": [
    "# from hottbox.core import Tensor\n",
    "# from hottbox.pdtools import pd_to_tensor"
   ]
  },
  {
   "cell_type": "code",
   "execution_count": 11,
   "metadata": {},
   "outputs": [],
   "source": [
    "# tensor = pd_to_tensor(df_tensor)"
   ]
  },
  {
   "cell_type": "code",
   "execution_count": 12,
   "metadata": {},
   "outputs": [],
   "source": [
    "# tensor"
   ]
  },
  {
   "cell_type": "markdown",
   "metadata": {},
   "source": [
    "------------------------------------\n",
    "**Create training samples and labels, i.e. training data, $\\mathcal{D}$**\n",
    "------------------------------------\n",
    "Create the dataset with tensor samples and vector labels: \n",
    "- Samples are stock prices of each stock windowed at a particular window length up to the prediction date, $t$. Samples are represented as third order tensors, with modes being `['Sector', 'Asset', 'Date']`. The samples are of size (#Sectors, #Assets in each sector, Window length). \n",
    "- Labels are stock prices of each stock at the prediction date, $t$. They are represented as vectors."
   ]
  },
  {
   "cell_type": "code",
   "execution_count": 13,
   "metadata": {},
   "outputs": [],
   "source": [
    "from hottbox.core import Tensor\n",
    "from hottbox.pdtools import pd_to_tensor"
   ]
  },
  {
   "cell_type": "code",
   "execution_count": 14,
   "metadata": {},
   "outputs": [],
   "source": [
    "w = 22 # window length\n",
    "\n",
    "X = []\n",
    "y = []\n",
    "for i in range(w, len(snp.index)):\n",
    "    df_t = df.iloc[i-w:i]\n",
    "    df_t = df_t.stack([0, 1])\n",
    "    X_t = pd_to_tensor(df_t)\n",
    "    \n",
    "    price_old = np.array(df.iloc[i-1])\n",
    "    price_now = np.array(df.iloc[i])\n",
    "    diff = price_now - price_old\n",
    "    y_t = np.sign(diff)\n",
    "    \n",
    "    X.append(X_t)\n",
    "    y.append(y_t)"
   ]
  },
  {
   "cell_type": "code",
   "execution_count": null,
   "metadata": {},
   "outputs": [],
   "source": []
  },
  {
   "cell_type": "markdown",
   "metadata": {},
   "source": [
    "------------------------------------\n",
    "**Tensor Ensemble Learning**\n",
    "------------------------------------"
   ]
  },
  {
   "cell_type": "code",
   "execution_count": 15,
   "metadata": {},
   "outputs": [],
   "source": [
    "from hottbox.core import Tensor, TensorTKD\n",
    "from hottbox.algorithms.decomposition import HOSVD, HOOI\n",
    "# from hottbox.utils.generation import residual_tensor\n",
    "from hottbox.algorithms.classification import TelVI\n",
    "\n",
    "from sklearn.model_selection import train_test_split\n",
    "from sklearn.svm import SVC"
   ]
  },
  {
   "cell_type": "code",
   "execution_count": 16,
   "metadata": {},
   "outputs": [],
   "source": [
    "# Represent each sample in Tucker form and store it in a list\n",
    "algo = HOSVD()\n",
    "rank = (5,2,2)\n",
    "X_tk = [algo.decompose(sample, rank=rank) for sample in X]\n",
    "\n",
    "# Split into train and test set\n",
    "X_train, X_test, y_train, y_test = train_test_split(X_tk, y, test_size=0.5)"
   ]
  },
  {
   "cell_type": "code",
   "execution_count": 17,
   "metadata": {},
   "outputs": [],
   "source": [
    "# Initialise classifier\n",
    "R = np.sum(rank) # number of base classifiers required\n",
    "\n",
    "telvi = TelVI(base_clf=[SVC(gamma='auto') for _ in range(R)],\n",
    "             probability = True,\n",
    "             verbose=True)\n"
   ]
  },
  {
   "cell_type": "code",
   "execution_count": 18,
   "metadata": {},
   "outputs": [
    {
     "name": "stdout",
     "output_type": "stream",
     "text": [
      "Base classifier #0 (SVC): Learning model parameters\n"
     ]
    },
    {
     "ename": "ValueError",
     "evalue": "y should be a 1d array, got an array of shape (492, 12) instead.",
     "output_type": "error",
     "traceback": [
      "\u001b[0;31m---------------------------------------------------------------------------\u001b[0m",
      "\u001b[0;31mValueError\u001b[0m                                Traceback (most recent call last)",
      "\u001b[0;32m<ipython-input-18-06a32d779545>\u001b[0m in \u001b[0;36m<module>\u001b[0;34m\u001b[0m\n\u001b[1;32m      1\u001b[0m \u001b[0;31m# Train classifer\u001b[0m\u001b[0;34m\u001b[0m\u001b[0;34m\u001b[0m\u001b[0;34m\u001b[0m\u001b[0m\n\u001b[0;32m----> 2\u001b[0;31m \u001b[0mtelvi\u001b[0m\u001b[0;34m.\u001b[0m\u001b[0mfit\u001b[0m\u001b[0;34m(\u001b[0m\u001b[0mX_train\u001b[0m\u001b[0;34m,\u001b[0m \u001b[0my_train\u001b[0m\u001b[0;34m)\u001b[0m\u001b[0;34m\u001b[0m\u001b[0;34m\u001b[0m\u001b[0m\n\u001b[0m",
      "\u001b[0;32m~/opt/anaconda3/lib/python3.8/site-packages/hottbox/algorithms/classification/ensemble_learning.py\u001b[0m in \u001b[0;36mfit\u001b[0;34m(self, X, y)\u001b[0m\n\u001b[1;32m    432\u001b[0m         \u001b[0mself\u001b[0m \u001b[0;34m:\u001b[0m \u001b[0mobject\u001b[0m\u001b[0;34m\u001b[0m\u001b[0;34m\u001b[0m\u001b[0m\n\u001b[1;32m    433\u001b[0m         \"\"\"\n\u001b[0;32m--> 434\u001b[0;31m         super(TelVI, self).fit(X=X,\n\u001b[0m\u001b[1;32m    435\u001b[0m                                y=y)\n\u001b[1;32m    436\u001b[0m         \u001b[0;32mreturn\u001b[0m \u001b[0mself\u001b[0m\u001b[0;34m\u001b[0m\u001b[0;34m\u001b[0m\u001b[0m\n",
      "\u001b[0;32m~/opt/anaconda3/lib/python3.8/site-packages/hottbox/algorithms/classification/ensemble_learning.py\u001b[0m in \u001b[0;36mfit\u001b[0;34m(self, X, y)\u001b[0m\n\u001b[1;32m    130\u001b[0m         \u001b[0mX_list\u001b[0m \u001b[0;34m=\u001b[0m \u001b[0mself\u001b[0m\u001b[0;34m.\u001b[0m\u001b[0mdecomp_to_array\u001b[0m\u001b[0;34m(\u001b[0m\u001b[0mX\u001b[0m\u001b[0;34m)\u001b[0m\u001b[0;34m\u001b[0m\u001b[0;34m\u001b[0m\u001b[0m\n\u001b[1;32m    131\u001b[0m         \u001b[0;32mfor\u001b[0m \u001b[0mi\u001b[0m\u001b[0;34m,\u001b[0m \u001b[0mX_new\u001b[0m \u001b[0;32min\u001b[0m \u001b[0menumerate\u001b[0m\u001b[0;34m(\u001b[0m\u001b[0mX_list\u001b[0m\u001b[0;34m)\u001b[0m\u001b[0;34m:\u001b[0m\u001b[0;34m\u001b[0m\u001b[0;34m\u001b[0m\u001b[0m\n\u001b[0;32m--> 132\u001b[0;31m             self.fit_base_clf(X=X_new,\n\u001b[0m\u001b[1;32m    133\u001b[0m                               \u001b[0my\u001b[0m\u001b[0;34m=\u001b[0m\u001b[0my\u001b[0m\u001b[0;34m,\u001b[0m\u001b[0;34m\u001b[0m\u001b[0;34m\u001b[0m\u001b[0m\n\u001b[1;32m    134\u001b[0m                               clf_num=i)\n",
      "\u001b[0;32m~/opt/anaconda3/lib/python3.8/site-packages/hottbox/algorithms/classification/ensemble_learning.py\u001b[0m in \u001b[0;36mfit_base_clf\u001b[0;34m(self, X, y, clf_num)\u001b[0m\n\u001b[1;32m    152\u001b[0m         \u001b[0;32mif\u001b[0m \u001b[0mself\u001b[0m\u001b[0;34m.\u001b[0m\u001b[0mverbose\u001b[0m\u001b[0;34m:\u001b[0m\u001b[0;34m\u001b[0m\u001b[0;34m\u001b[0m\u001b[0m\n\u001b[1;32m    153\u001b[0m             \u001b[0mprint\u001b[0m\u001b[0;34m(\u001b[0m\u001b[0;34m'Base classifier #{} ({}): Learning model parameters'\u001b[0m\u001b[0;34m.\u001b[0m\u001b[0mformat\u001b[0m\u001b[0;34m(\u001b[0m\u001b[0mclf_num\u001b[0m\u001b[0;34m,\u001b[0m \u001b[0mself\u001b[0m\u001b[0;34m.\u001b[0m\u001b[0mname_base_clf\u001b[0m\u001b[0;34m[\u001b[0m\u001b[0mclf_num\u001b[0m\u001b[0;34m]\u001b[0m\u001b[0;34m)\u001b[0m\u001b[0;34m)\u001b[0m\u001b[0;34m\u001b[0m\u001b[0;34m\u001b[0m\u001b[0m\n\u001b[0;32m--> 154\u001b[0;31m         \u001b[0mself\u001b[0m\u001b[0;34m.\u001b[0m\u001b[0mbase_clf\u001b[0m\u001b[0;34m[\u001b[0m\u001b[0mclf_num\u001b[0m\u001b[0;34m]\u001b[0m\u001b[0;34m.\u001b[0m\u001b[0mfit\u001b[0m\u001b[0;34m(\u001b[0m\u001b[0mX\u001b[0m\u001b[0;34m,\u001b[0m \u001b[0my\u001b[0m\u001b[0;34m)\u001b[0m\u001b[0;34m\u001b[0m\u001b[0;34m\u001b[0m\u001b[0m\n\u001b[0m\u001b[1;32m    155\u001b[0m         \u001b[0;32mreturn\u001b[0m \u001b[0mself\u001b[0m\u001b[0;34m\u001b[0m\u001b[0;34m\u001b[0m\u001b[0m\n\u001b[1;32m    156\u001b[0m \u001b[0;34m\u001b[0m\u001b[0m\n",
      "\u001b[0;32m~/opt/anaconda3/lib/python3.8/site-packages/sklearn/svm/_base.py\u001b[0m in \u001b[0;36mfit\u001b[0;34m(self, X, y, sample_weight)\u001b[0m\n\u001b[1;32m    158\u001b[0m             \u001b[0mcheck_consistent_length\u001b[0m\u001b[0;34m(\u001b[0m\u001b[0mX\u001b[0m\u001b[0;34m,\u001b[0m \u001b[0my\u001b[0m\u001b[0;34m)\u001b[0m\u001b[0;34m\u001b[0m\u001b[0;34m\u001b[0m\u001b[0m\n\u001b[1;32m    159\u001b[0m         \u001b[0;32melse\u001b[0m\u001b[0;34m:\u001b[0m\u001b[0;34m\u001b[0m\u001b[0;34m\u001b[0m\u001b[0m\n\u001b[0;32m--> 160\u001b[0;31m             X, y = self._validate_data(X, y, dtype=np.float64,\n\u001b[0m\u001b[1;32m    161\u001b[0m                                        \u001b[0morder\u001b[0m\u001b[0;34m=\u001b[0m\u001b[0;34m'C'\u001b[0m\u001b[0;34m,\u001b[0m \u001b[0maccept_sparse\u001b[0m\u001b[0;34m=\u001b[0m\u001b[0;34m'csr'\u001b[0m\u001b[0;34m,\u001b[0m\u001b[0;34m\u001b[0m\u001b[0;34m\u001b[0m\u001b[0m\n\u001b[1;32m    162\u001b[0m                                        accept_large_sparse=False)\n",
      "\u001b[0;32m~/opt/anaconda3/lib/python3.8/site-packages/sklearn/base.py\u001b[0m in \u001b[0;36m_validate_data\u001b[0;34m(self, X, y, reset, validate_separately, **check_params)\u001b[0m\n\u001b[1;32m    430\u001b[0m                 \u001b[0my\u001b[0m \u001b[0;34m=\u001b[0m \u001b[0mcheck_array\u001b[0m\u001b[0;34m(\u001b[0m\u001b[0my\u001b[0m\u001b[0;34m,\u001b[0m \u001b[0;34m**\u001b[0m\u001b[0mcheck_y_params\u001b[0m\u001b[0;34m)\u001b[0m\u001b[0;34m\u001b[0m\u001b[0;34m\u001b[0m\u001b[0m\n\u001b[1;32m    431\u001b[0m             \u001b[0;32melse\u001b[0m\u001b[0;34m:\u001b[0m\u001b[0;34m\u001b[0m\u001b[0;34m\u001b[0m\u001b[0m\n\u001b[0;32m--> 432\u001b[0;31m                 \u001b[0mX\u001b[0m\u001b[0;34m,\u001b[0m \u001b[0my\u001b[0m \u001b[0;34m=\u001b[0m \u001b[0mcheck_X_y\u001b[0m\u001b[0;34m(\u001b[0m\u001b[0mX\u001b[0m\u001b[0;34m,\u001b[0m \u001b[0my\u001b[0m\u001b[0;34m,\u001b[0m \u001b[0;34m**\u001b[0m\u001b[0mcheck_params\u001b[0m\u001b[0;34m)\u001b[0m\u001b[0;34m\u001b[0m\u001b[0;34m\u001b[0m\u001b[0m\n\u001b[0m\u001b[1;32m    433\u001b[0m             \u001b[0mout\u001b[0m \u001b[0;34m=\u001b[0m \u001b[0mX\u001b[0m\u001b[0;34m,\u001b[0m \u001b[0my\u001b[0m\u001b[0;34m\u001b[0m\u001b[0;34m\u001b[0m\u001b[0m\n\u001b[1;32m    434\u001b[0m \u001b[0;34m\u001b[0m\u001b[0m\n",
      "\u001b[0;32m~/opt/anaconda3/lib/python3.8/site-packages/sklearn/utils/validation.py\u001b[0m in \u001b[0;36minner_f\u001b[0;34m(*args, **kwargs)\u001b[0m\n\u001b[1;32m     71\u001b[0m                           FutureWarning)\n\u001b[1;32m     72\u001b[0m         \u001b[0mkwargs\u001b[0m\u001b[0;34m.\u001b[0m\u001b[0mupdate\u001b[0m\u001b[0;34m(\u001b[0m\u001b[0;34m{\u001b[0m\u001b[0mk\u001b[0m\u001b[0;34m:\u001b[0m \u001b[0marg\u001b[0m \u001b[0;32mfor\u001b[0m \u001b[0mk\u001b[0m\u001b[0;34m,\u001b[0m \u001b[0marg\u001b[0m \u001b[0;32min\u001b[0m \u001b[0mzip\u001b[0m\u001b[0;34m(\u001b[0m\u001b[0msig\u001b[0m\u001b[0;34m.\u001b[0m\u001b[0mparameters\u001b[0m\u001b[0;34m,\u001b[0m \u001b[0margs\u001b[0m\u001b[0;34m)\u001b[0m\u001b[0;34m}\u001b[0m\u001b[0;34m)\u001b[0m\u001b[0;34m\u001b[0m\u001b[0;34m\u001b[0m\u001b[0m\n\u001b[0;32m---> 73\u001b[0;31m         \u001b[0;32mreturn\u001b[0m \u001b[0mf\u001b[0m\u001b[0;34m(\u001b[0m\u001b[0;34m**\u001b[0m\u001b[0mkwargs\u001b[0m\u001b[0;34m)\u001b[0m\u001b[0;34m\u001b[0m\u001b[0;34m\u001b[0m\u001b[0m\n\u001b[0m\u001b[1;32m     74\u001b[0m     \u001b[0;32mreturn\u001b[0m \u001b[0minner_f\u001b[0m\u001b[0;34m\u001b[0m\u001b[0;34m\u001b[0m\u001b[0m\n\u001b[1;32m     75\u001b[0m \u001b[0;34m\u001b[0m\u001b[0m\n",
      "\u001b[0;32m~/opt/anaconda3/lib/python3.8/site-packages/sklearn/utils/validation.py\u001b[0m in \u001b[0;36mcheck_X_y\u001b[0;34m(X, y, accept_sparse, accept_large_sparse, dtype, order, copy, force_all_finite, ensure_2d, allow_nd, multi_output, ensure_min_samples, ensure_min_features, y_numeric, estimator)\u001b[0m\n\u001b[1;32m    806\u001b[0m                         ensure_2d=False, dtype=None)\n\u001b[1;32m    807\u001b[0m     \u001b[0;32melse\u001b[0m\u001b[0;34m:\u001b[0m\u001b[0;34m\u001b[0m\u001b[0;34m\u001b[0m\u001b[0m\n\u001b[0;32m--> 808\u001b[0;31m         \u001b[0my\u001b[0m \u001b[0;34m=\u001b[0m \u001b[0mcolumn_or_1d\u001b[0m\u001b[0;34m(\u001b[0m\u001b[0my\u001b[0m\u001b[0;34m,\u001b[0m \u001b[0mwarn\u001b[0m\u001b[0;34m=\u001b[0m\u001b[0;32mTrue\u001b[0m\u001b[0;34m)\u001b[0m\u001b[0;34m\u001b[0m\u001b[0;34m\u001b[0m\u001b[0m\n\u001b[0m\u001b[1;32m    809\u001b[0m         \u001b[0m_assert_all_finite\u001b[0m\u001b[0;34m(\u001b[0m\u001b[0my\u001b[0m\u001b[0;34m)\u001b[0m\u001b[0;34m\u001b[0m\u001b[0;34m\u001b[0m\u001b[0m\n\u001b[1;32m    810\u001b[0m     \u001b[0;32mif\u001b[0m \u001b[0my_numeric\u001b[0m \u001b[0;32mand\u001b[0m \u001b[0my\u001b[0m\u001b[0;34m.\u001b[0m\u001b[0mdtype\u001b[0m\u001b[0;34m.\u001b[0m\u001b[0mkind\u001b[0m \u001b[0;34m==\u001b[0m \u001b[0;34m'O'\u001b[0m\u001b[0;34m:\u001b[0m\u001b[0;34m\u001b[0m\u001b[0;34m\u001b[0m\u001b[0m\n",
      "\u001b[0;32m~/opt/anaconda3/lib/python3.8/site-packages/sklearn/utils/validation.py\u001b[0m in \u001b[0;36minner_f\u001b[0;34m(*args, **kwargs)\u001b[0m\n\u001b[1;32m     71\u001b[0m                           FutureWarning)\n\u001b[1;32m     72\u001b[0m         \u001b[0mkwargs\u001b[0m\u001b[0;34m.\u001b[0m\u001b[0mupdate\u001b[0m\u001b[0;34m(\u001b[0m\u001b[0;34m{\u001b[0m\u001b[0mk\u001b[0m\u001b[0;34m:\u001b[0m \u001b[0marg\u001b[0m \u001b[0;32mfor\u001b[0m \u001b[0mk\u001b[0m\u001b[0;34m,\u001b[0m \u001b[0marg\u001b[0m \u001b[0;32min\u001b[0m \u001b[0mzip\u001b[0m\u001b[0;34m(\u001b[0m\u001b[0msig\u001b[0m\u001b[0;34m.\u001b[0m\u001b[0mparameters\u001b[0m\u001b[0;34m,\u001b[0m \u001b[0margs\u001b[0m\u001b[0;34m)\u001b[0m\u001b[0;34m}\u001b[0m\u001b[0;34m)\u001b[0m\u001b[0;34m\u001b[0m\u001b[0;34m\u001b[0m\u001b[0m\n\u001b[0;32m---> 73\u001b[0;31m         \u001b[0;32mreturn\u001b[0m \u001b[0mf\u001b[0m\u001b[0;34m(\u001b[0m\u001b[0;34m**\u001b[0m\u001b[0mkwargs\u001b[0m\u001b[0;34m)\u001b[0m\u001b[0;34m\u001b[0m\u001b[0;34m\u001b[0m\u001b[0m\n\u001b[0m\u001b[1;32m     74\u001b[0m     \u001b[0;32mreturn\u001b[0m \u001b[0minner_f\u001b[0m\u001b[0;34m\u001b[0m\u001b[0;34m\u001b[0m\u001b[0m\n\u001b[1;32m     75\u001b[0m \u001b[0;34m\u001b[0m\u001b[0m\n",
      "\u001b[0;32m~/opt/anaconda3/lib/python3.8/site-packages/sklearn/utils/validation.py\u001b[0m in \u001b[0;36mcolumn_or_1d\u001b[0;34m(y, warn)\u001b[0m\n\u001b[1;32m    844\u001b[0m         \u001b[0;32mreturn\u001b[0m \u001b[0mnp\u001b[0m\u001b[0;34m.\u001b[0m\u001b[0mravel\u001b[0m\u001b[0;34m(\u001b[0m\u001b[0my\u001b[0m\u001b[0;34m)\u001b[0m\u001b[0;34m\u001b[0m\u001b[0;34m\u001b[0m\u001b[0m\n\u001b[1;32m    845\u001b[0m \u001b[0;34m\u001b[0m\u001b[0m\n\u001b[0;32m--> 846\u001b[0;31m     raise ValueError(\n\u001b[0m\u001b[1;32m    847\u001b[0m         \u001b[0;34m\"y should be a 1d array, \"\u001b[0m\u001b[0;34m\u001b[0m\u001b[0;34m\u001b[0m\u001b[0m\n\u001b[1;32m    848\u001b[0m         \"got an array of shape {} instead.\".format(shape))\n",
      "\u001b[0;31mValueError\u001b[0m: y should be a 1d array, got an array of shape (492, 12) instead."
     ]
    }
   ],
   "source": [
    "# Train classifer\n",
    "telvi.fit(X_train, y_train)"
   ]
  },
  {
   "cell_type": "code",
   "execution_count": null,
   "metadata": {},
   "outputs": [],
   "source": []
  }
 ],
 "metadata": {
  "kernelspec": {
   "display_name": "Python 3",
   "language": "python",
   "name": "python3"
  },
  "language_info": {
   "codemirror_mode": {
    "name": "ipython",
    "version": 3
   },
   "file_extension": ".py",
   "mimetype": "text/x-python",
   "name": "python",
   "nbconvert_exporter": "python",
   "pygments_lexer": "ipython3",
   "version": "3.8.3"
  }
 },
 "nbformat": 4,
 "nbformat_minor": 4
}
