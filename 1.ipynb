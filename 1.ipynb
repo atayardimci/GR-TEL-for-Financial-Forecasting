{
 "cells": [
  {
   "cell_type": "code",
   "execution_count": 1,
   "metadata": {},
   "outputs": [],
   "source": [
    "# Import libraries\n",
    "import numpy as np\n",
    "import pandas as pd\n",
    "from datetime import datetime\n",
    "import copy\n",
    "\n",
    "import networkx as nx\n",
    "\n",
    "import matplotlib.pyplot as plt\n",
    "%matplotlib inline\n",
    "plt.style.use('ggplot')\n",
    "\n",
    "# Set paths\n",
    "fig_path = './figures/'\n",
    "data_path = './data/'"
   ]
  },
  {
   "cell_type": "markdown",
   "metadata": {},
   "source": [
    "------------------------------------\n",
    "**Get the companies**\n",
    "------------------------------------"
   ]
  },
  {
   "cell_type": "code",
   "execution_count": 2,
   "metadata": {},
   "outputs": [],
   "source": [
    "# Read data\n",
    "\n",
    "mydateparser = lambda x: datetime.strptime(x, \"%Y-%m-%d\")\n",
    "snp = pd.read_csv(data_path+\"snp_allstocks_2015_2019.csv\", index_col='Date', parse_dates=True, date_parser=mydateparser)\n",
    "info = pd.read_csv(data_path+'snp_info.csv', index_col=0)\n",
    "\n",
    "# https://www.slickcharts.com/sp500\n",
    "# https://datahub.io/core/s-and-p-500-companies-financials\n",
    "detailed_info = pd.read_csv(data_path+'constituents-financials.csv', index_col=0)\n",
    "stocks_sorted = detailed_info.sort_values('Market Cap', ascending=False)['Sector']"
   ]
  },
  {
   "cell_type": "code",
   "execution_count": 3,
   "metadata": {},
   "outputs": [],
   "source": [
    "stocks_by_sector = {sector: [] for sector in info['GICS Sector'].unique()}\n",
    "\n",
    "for stock in stocks_sorted.index[:160]:\n",
    "    if stock in ['PCLN', 'TWX', 'AET', 'MON', 'PX', 'ESRX']:\n",
    "        continue\n",
    "    stock = 'BRK-B' if stock == 'BRK.B' else stock\n",
    "    \n",
    "    sector = info.set_index('Symbol').loc[stock]['GICS Sector']\n",
    "    stocks_by_sector[sector].append(stock)\n",
    "# stocks"
   ]
  },
  {
   "cell_type": "code",
   "execution_count": 4,
   "metadata": {},
   "outputs": [],
   "source": [
    "# Select top three stocks (by market cap) within each GICS Sector\n",
    "stocks = {}\n",
    "for sector in stocks_by_sector:\n",
    "    stocks[sector] = stocks_by_sector[sector][:3]"
   ]
  },
  {
   "cell_type": "code",
   "execution_count": 5,
   "metadata": {},
   "outputs": [
    {
     "data": {
      "text/plain": [
       "{'Communication Services': ['GOOGL', 'GOOG', 'FB'],\n",
       " 'Consumer Discretionary': ['AMZN', 'HD', 'MCD'],\n",
       " 'Financials': ['JPM', 'BAC', 'WFC'],\n",
       " 'Information Technology': ['AAPL', 'MSFT', 'V']}"
      ]
     },
     "execution_count": 5,
     "metadata": {},
     "output_type": "execute_result"
    }
   ],
   "source": [
    "# use a subset of stocks instead for easy understanding\n",
    "# order them alphabetically\n",
    "tmp = {}\n",
    "tmp['Communication Services'] = stocks['Communication Services']\n",
    "tmp['Consumer Discretionary'] = stocks['Consumer Discretionary']\n",
    "tmp['Financials'] = stocks['Financials']\n",
    "tmp['Information Technology'] = stocks['Information Technology']\n",
    "\n",
    "stocks = tmp\n",
    "stocks"
   ]
  },
  {
   "cell_type": "markdown",
   "metadata": {},
   "source": [
    "------------------------------------\n",
    "**Get the data**\n",
    "------------------------------------\n",
    "- Standardize individual asset names (e.g. asset_1)"
   ]
  },
  {
   "cell_type": "code",
   "execution_count": 6,
   "metadata": {},
   "outputs": [],
   "source": [
    "sector_col = []\n",
    "stock_col = []\n",
    "for sector in stocks:\n",
    "    for i, stock in enumerate(stocks[sector]):\n",
    "        stock_name = 'asset_' + str(i+1)\n",
    "        sector_col.append(sector)\n",
    "        stock_col.append(stock_name)\n",
    "\n",
    "df = pd.DataFrame(columns=[sector_col, stock_col], index=snp.index)\n",
    "df.columns.names = ['Sector', 'Asset']\n",
    "# df.head()"
   ]
  },
  {
   "cell_type": "code",
   "execution_count": 7,
   "metadata": {},
   "outputs": [
    {
     "data": {
      "text/html": [
       "<div>\n",
       "<style scoped>\n",
       "    .dataframe tbody tr th:only-of-type {\n",
       "        vertical-align: middle;\n",
       "    }\n",
       "\n",
       "    .dataframe tbody tr th {\n",
       "        vertical-align: top;\n",
       "    }\n",
       "\n",
       "    .dataframe thead tr th {\n",
       "        text-align: left;\n",
       "    }\n",
       "\n",
       "    .dataframe thead tr:last-of-type th {\n",
       "        text-align: right;\n",
       "    }\n",
       "</style>\n",
       "<table border=\"1\" class=\"dataframe\">\n",
       "  <thead>\n",
       "    <tr>\n",
       "      <th>Sector</th>\n",
       "      <th colspan=\"3\" halign=\"left\">Communication Services</th>\n",
       "      <th colspan=\"3\" halign=\"left\">Consumer Discretionary</th>\n",
       "      <th colspan=\"3\" halign=\"left\">Financials</th>\n",
       "      <th colspan=\"3\" halign=\"left\">Information Technology</th>\n",
       "    </tr>\n",
       "    <tr>\n",
       "      <th>Asset</th>\n",
       "      <th>asset_1</th>\n",
       "      <th>asset_2</th>\n",
       "      <th>asset_3</th>\n",
       "      <th>asset_1</th>\n",
       "      <th>asset_2</th>\n",
       "      <th>asset_3</th>\n",
       "      <th>asset_1</th>\n",
       "      <th>asset_2</th>\n",
       "      <th>asset_3</th>\n",
       "      <th>asset_1</th>\n",
       "      <th>asset_2</th>\n",
       "      <th>asset_3</th>\n",
       "    </tr>\n",
       "    <tr>\n",
       "      <th>Date</th>\n",
       "      <th></th>\n",
       "      <th></th>\n",
       "      <th></th>\n",
       "      <th></th>\n",
       "      <th></th>\n",
       "      <th></th>\n",
       "      <th></th>\n",
       "      <th></th>\n",
       "      <th></th>\n",
       "      <th></th>\n",
       "      <th></th>\n",
       "      <th></th>\n",
       "    </tr>\n",
       "  </thead>\n",
       "  <tbody>\n",
       "    <tr>\n",
       "      <th>2015-01-02</th>\n",
       "      <td>529.549988</td>\n",
       "      <td>521.937744</td>\n",
       "      <td>78.449997</td>\n",
       "      <td>308.519989</td>\n",
       "      <td>103.430000</td>\n",
       "      <td>93.260002</td>\n",
       "      <td>62.490002</td>\n",
       "      <td>17.900000</td>\n",
       "      <td>54.700001</td>\n",
       "      <td>109.330002</td>\n",
       "      <td>46.759998</td>\n",
       "      <td>66.254997</td>\n",
       "    </tr>\n",
       "    <tr>\n",
       "      <th>2015-01-05</th>\n",
       "      <td>519.460022</td>\n",
       "      <td>511.057617</td>\n",
       "      <td>77.190002</td>\n",
       "      <td>302.190002</td>\n",
       "      <td>101.260002</td>\n",
       "      <td>92.230003</td>\n",
       "      <td>60.549999</td>\n",
       "      <td>17.379999</td>\n",
       "      <td>53.200001</td>\n",
       "      <td>106.250000</td>\n",
       "      <td>46.330002</td>\n",
       "      <td>64.792503</td>\n",
       "    </tr>\n",
       "    <tr>\n",
       "      <th>2015-01-06</th>\n",
       "      <td>506.640015</td>\n",
       "      <td>499.212799</td>\n",
       "      <td>76.150002</td>\n",
       "      <td>295.290009</td>\n",
       "      <td>100.949997</td>\n",
       "      <td>92.400002</td>\n",
       "      <td>58.980000</td>\n",
       "      <td>16.860001</td>\n",
       "      <td>52.090000</td>\n",
       "      <td>106.260002</td>\n",
       "      <td>45.650002</td>\n",
       "      <td>64.375000</td>\n",
       "    </tr>\n",
       "    <tr>\n",
       "      <th>2015-01-07</th>\n",
       "      <td>505.149994</td>\n",
       "      <td>498.357513</td>\n",
       "      <td>76.150002</td>\n",
       "      <td>298.420013</td>\n",
       "      <td>104.410004</td>\n",
       "      <td>94.010002</td>\n",
       "      <td>59.070000</td>\n",
       "      <td>16.940001</td>\n",
       "      <td>52.400002</td>\n",
       "      <td>107.750000</td>\n",
       "      <td>46.230000</td>\n",
       "      <td>65.237503</td>\n",
       "    </tr>\n",
       "    <tr>\n",
       "      <th>2015-01-08</th>\n",
       "      <td>506.910004</td>\n",
       "      <td>499.928864</td>\n",
       "      <td>78.180000</td>\n",
       "      <td>300.459991</td>\n",
       "      <td>106.720001</td>\n",
       "      <td>94.360001</td>\n",
       "      <td>60.389999</td>\n",
       "      <td>17.290001</td>\n",
       "      <td>53.560001</td>\n",
       "      <td>111.889999</td>\n",
       "      <td>47.590000</td>\n",
       "      <td>66.112503</td>\n",
       "    </tr>\n",
       "    <tr>\n",
       "      <th>...</th>\n",
       "      <td>...</td>\n",
       "      <td>...</td>\n",
       "      <td>...</td>\n",
       "      <td>...</td>\n",
       "      <td>...</td>\n",
       "      <td>...</td>\n",
       "      <td>...</td>\n",
       "      <td>...</td>\n",
       "      <td>...</td>\n",
       "      <td>...</td>\n",
       "      <td>...</td>\n",
       "      <td>...</td>\n",
       "    </tr>\n",
       "    <tr>\n",
       "      <th>2018-12-24</th>\n",
       "      <td>984.669983</td>\n",
       "      <td>976.219971</td>\n",
       "      <td>124.059998</td>\n",
       "      <td>1343.959961</td>\n",
       "      <td>158.139999</td>\n",
       "      <td>170.279999</td>\n",
       "      <td>92.139999</td>\n",
       "      <td>22.730000</td>\n",
       "      <td>43.599998</td>\n",
       "      <td>146.830002</td>\n",
       "      <td>94.129997</td>\n",
       "      <td>121.730003</td>\n",
       "    </tr>\n",
       "    <tr>\n",
       "      <th>2018-12-26</th>\n",
       "      <td>1047.849976</td>\n",
       "      <td>1039.459961</td>\n",
       "      <td>134.179993</td>\n",
       "      <td>1470.900024</td>\n",
       "      <td>168.279999</td>\n",
       "      <td>174.029999</td>\n",
       "      <td>95.959999</td>\n",
       "      <td>24.110001</td>\n",
       "      <td>45.590000</td>\n",
       "      <td>157.169998</td>\n",
       "      <td>100.559998</td>\n",
       "      <td>130.229996</td>\n",
       "    </tr>\n",
       "    <tr>\n",
       "      <th>2018-12-27</th>\n",
       "      <td>1052.900024</td>\n",
       "      <td>1043.880005</td>\n",
       "      <td>134.520004</td>\n",
       "      <td>1461.640015</td>\n",
       "      <td>170.320007</td>\n",
       "      <td>175.710007</td>\n",
       "      <td>97.040001</td>\n",
       "      <td>24.370001</td>\n",
       "      <td>45.529999</td>\n",
       "      <td>156.149994</td>\n",
       "      <td>101.180000</td>\n",
       "      <td>132.009995</td>\n",
       "    </tr>\n",
       "    <tr>\n",
       "      <th>2018-12-28</th>\n",
       "      <td>1046.680054</td>\n",
       "      <td>1037.079956</td>\n",
       "      <td>133.199997</td>\n",
       "      <td>1478.020020</td>\n",
       "      <td>170.220001</td>\n",
       "      <td>175.559998</td>\n",
       "      <td>96.830002</td>\n",
       "      <td>24.389999</td>\n",
       "      <td>45.779999</td>\n",
       "      <td>156.229996</td>\n",
       "      <td>100.389999</td>\n",
       "      <td>130.940002</td>\n",
       "    </tr>\n",
       "    <tr>\n",
       "      <th>2018-12-31</th>\n",
       "      <td>1044.959961</td>\n",
       "      <td>1035.609985</td>\n",
       "      <td>131.089996</td>\n",
       "      <td>1501.969971</td>\n",
       "      <td>171.820007</td>\n",
       "      <td>177.570007</td>\n",
       "      <td>97.620003</td>\n",
       "      <td>24.639999</td>\n",
       "      <td>46.080002</td>\n",
       "      <td>157.740005</td>\n",
       "      <td>101.570000</td>\n",
       "      <td>131.940002</td>\n",
       "    </tr>\n",
       "  </tbody>\n",
       "</table>\n",
       "<p>1006 rows × 12 columns</p>\n",
       "</div>"
      ],
      "text/plain": [
       "Sector     Communication Services                           \\\n",
       "Asset                     asset_1      asset_2     asset_3   \n",
       "Date                                                         \n",
       "2015-01-02             529.549988   521.937744   78.449997   \n",
       "2015-01-05             519.460022   511.057617   77.190002   \n",
       "2015-01-06             506.640015   499.212799   76.150002   \n",
       "2015-01-07             505.149994   498.357513   76.150002   \n",
       "2015-01-08             506.910004   499.928864   78.180000   \n",
       "...                           ...          ...         ...   \n",
       "2018-12-24             984.669983   976.219971  124.059998   \n",
       "2018-12-26            1047.849976  1039.459961  134.179993   \n",
       "2018-12-27            1052.900024  1043.880005  134.520004   \n",
       "2018-12-28            1046.680054  1037.079956  133.199997   \n",
       "2018-12-31            1044.959961  1035.609985  131.089996   \n",
       "\n",
       "Sector     Consumer Discretionary                         Financials  \\\n",
       "Asset                     asset_1     asset_2     asset_3    asset_1   \n",
       "Date                                                                   \n",
       "2015-01-02             308.519989  103.430000   93.260002  62.490002   \n",
       "2015-01-05             302.190002  101.260002   92.230003  60.549999   \n",
       "2015-01-06             295.290009  100.949997   92.400002  58.980000   \n",
       "2015-01-07             298.420013  104.410004   94.010002  59.070000   \n",
       "2015-01-08             300.459991  106.720001   94.360001  60.389999   \n",
       "...                           ...         ...         ...        ...   \n",
       "2018-12-24            1343.959961  158.139999  170.279999  92.139999   \n",
       "2018-12-26            1470.900024  168.279999  174.029999  95.959999   \n",
       "2018-12-27            1461.640015  170.320007  175.710007  97.040001   \n",
       "2018-12-28            1478.020020  170.220001  175.559998  96.830002   \n",
       "2018-12-31            1501.969971  171.820007  177.570007  97.620003   \n",
       "\n",
       "Sector                           Information Technology              \\\n",
       "Asset         asset_2    asset_3                asset_1     asset_2   \n",
       "Date                                                                  \n",
       "2015-01-02  17.900000  54.700001             109.330002   46.759998   \n",
       "2015-01-05  17.379999  53.200001             106.250000   46.330002   \n",
       "2015-01-06  16.860001  52.090000             106.260002   45.650002   \n",
       "2015-01-07  16.940001  52.400002             107.750000   46.230000   \n",
       "2015-01-08  17.290001  53.560001             111.889999   47.590000   \n",
       "...               ...        ...                    ...         ...   \n",
       "2018-12-24  22.730000  43.599998             146.830002   94.129997   \n",
       "2018-12-26  24.110001  45.590000             157.169998  100.559998   \n",
       "2018-12-27  24.370001  45.529999             156.149994  101.180000   \n",
       "2018-12-28  24.389999  45.779999             156.229996  100.389999   \n",
       "2018-12-31  24.639999  46.080002             157.740005  101.570000   \n",
       "\n",
       "Sector                  \n",
       "Asset          asset_3  \n",
       "Date                    \n",
       "2015-01-02   66.254997  \n",
       "2015-01-05   64.792503  \n",
       "2015-01-06   64.375000  \n",
       "2015-01-07   65.237503  \n",
       "2015-01-08   66.112503  \n",
       "...                ...  \n",
       "2018-12-24  121.730003  \n",
       "2018-12-26  130.229996  \n",
       "2018-12-27  132.009995  \n",
       "2018-12-28  130.940002  \n",
       "2018-12-31  131.940002  \n",
       "\n",
       "[1006 rows x 12 columns]"
      ]
     },
     "execution_count": 7,
     "metadata": {},
     "output_type": "execute_result"
    }
   ],
   "source": [
    "for sector in stocks:\n",
    "    for i, stock in enumerate(stocks[sector]):\n",
    "        stock_name = 'asset_' + str(i+1)\n",
    "        df.loc[:,(sector, stock_name)] = snp[stock]\n",
    "df"
   ]
  },
  {
   "cell_type": "markdown",
   "metadata": {},
   "source": [
    "------------------------------------\n",
    "**Represent DataFrame as one column Multi-index data**\n",
    "------------------------------------"
   ]
  },
  {
   "cell_type": "code",
   "execution_count": 8,
   "metadata": {},
   "outputs": [
    {
     "data": {
      "text/plain": [
       "Date        Sector                  Asset  \n",
       "2015-01-02  Communication Services  asset_1    529.549988\n",
       "                                    asset_2    521.937744\n",
       "                                    asset_3     78.449997\n",
       "            Consumer Discretionary  asset_1    308.519989\n",
       "                                    asset_2    103.430000\n",
       "                                                  ...    \n",
       "2018-12-31  Financials              asset_2     24.639999\n",
       "                                    asset_3     46.080002\n",
       "            Information Technology  asset_1    157.740005\n",
       "                                    asset_2    101.570000\n",
       "                                    asset_3    131.940002\n",
       "Length: 12072, dtype: float64"
      ]
     },
     "execution_count": 8,
     "metadata": {},
     "output_type": "execute_result"
    }
   ],
   "source": [
    "df = df.stack([0, 1])\n",
    "df"
   ]
  },
  {
   "cell_type": "code",
   "execution_count": 9,
   "metadata": {},
   "outputs": [],
   "source": [
    "# DON'T RUN -- for visualization and help\n",
    "# df.reorder_levels([1,2,0])[:30]\n",
    "# df.reorder_levels([1,2,0])['Information Technology']['asset_1']"
   ]
  },
  {
   "cell_type": "markdown",
   "metadata": {},
   "source": [
    "------------------------------------\n",
    "**Tensorize the data**\n",
    "------------------------------------"
   ]
  },
  {
   "cell_type": "code",
   "execution_count": 10,
   "metadata": {},
   "outputs": [],
   "source": [
    "from hottbox.core import Tensor\n",
    "from hottbox.pdtools import pd_to_tensor"
   ]
  },
  {
   "cell_type": "code",
   "execution_count": 11,
   "metadata": {},
   "outputs": [],
   "source": [
    "tensor = pd_to_tensor(df)"
   ]
  },
  {
   "cell_type": "code",
   "execution_count": 12,
   "metadata": {},
   "outputs": [
    {
     "data": {
      "text/plain": [
       "This tensor is of order 3 and consists of 12072 elements.\n",
       "Sizes and names of its modes are (1006, 4, 3) and ['Date', 'Sector', 'Asset'] respectively."
      ]
     },
     "execution_count": 12,
     "metadata": {},
     "output_type": "execute_result"
    }
   ],
   "source": [
    "tensor"
   ]
  },
  {
   "cell_type": "markdown",
   "metadata": {},
   "source": [
    "------------------------------------\n",
    "**Create training samples and labels**\n",
    "------------------------------------\n",
    "Create the dataset with tensor samples and vector labels: \n",
    "- Samples are stock prices of each stock windowed at a particular window length up to the prediction date, $t$. Samples are represented as third order tensors, with modes being `['Sector', 'Asset', 'Date']`. The samples are of size (#Sectors, #Assets in each sector, Window length). \n",
    "- Labels are stock prices of each stock at the prediction date, $t$. They are represented as vectors."
   ]
  },
  {
   "cell_type": "code",
   "execution_count": 14,
   "metadata": {},
   "outputs": [
    {
     "data": {
      "text/plain": [
       "DatetimeIndex(['2015-01-02', '2015-01-05', '2015-01-06', '2015-01-07',\n",
       "               '2015-01-08', '2015-01-09', '2015-01-12', '2015-01-13',\n",
       "               '2015-01-14', '2015-01-15',\n",
       "               ...\n",
       "               '2018-12-17', '2018-12-18', '2018-12-19', '2018-12-20',\n",
       "               '2018-12-21', '2018-12-24', '2018-12-26', '2018-12-27',\n",
       "               '2018-12-28', '2018-12-31'],\n",
       "              dtype='datetime64[ns]', name='Date', length=1006, freq=None)"
      ]
     },
     "execution_count": 14,
     "metadata": {},
     "output_type": "execute_result"
    }
   ],
   "source": [
    "snp.index"
   ]
  },
  {
   "cell_type": "code",
   "execution_count": null,
   "metadata": {},
   "outputs": [],
   "source": [
    "w = 66 # window length\n",
    "\n",
    "for t in snp.index[w:]:\n",
    "    "
   ]
  }
 ],
 "metadata": {
  "kernelspec": {
   "display_name": "Python 3",
   "language": "python",
   "name": "python3"
  },
  "language_info": {
   "codemirror_mode": {
    "name": "ipython",
    "version": 3
   },
   "file_extension": ".py",
   "mimetype": "text/x-python",
   "name": "python",
   "nbconvert_exporter": "python",
   "pygments_lexer": "ipython3",
   "version": "3.8.3"
  }
 },
 "nbformat": 4,
 "nbformat_minor": 4
}
